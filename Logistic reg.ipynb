{
 "cells": [
  {
   "cell_type": "code",
   "execution_count": 1,
   "id": "9d06151a",
   "metadata": {},
   "outputs": [],
   "source": [
    "import pandas as pd"
   ]
  },
  {
   "cell_type": "code",
   "execution_count": 2,
   "id": "597c0d10",
   "metadata": {},
   "outputs": [],
   "source": [
    "seed=1234"
   ]
  },
  {
   "cell_type": "code",
   "execution_count": 3,
   "id": "1b8b490f",
   "metadata": {},
   "outputs": [],
   "source": [
    "#Abro el archivo con la informacion\n",
    "#Normalizada\n",
    "#data = pd.read_csv('attritionDataWithDummyVarsAndNorm.csv')\n",
    "#Sin normalizar\n",
    "data = pd.read_csv('attritionDataWithDummyVars.csv')\n",
    "\n",
    "\n",
    "#Ensamble\n",
    "#data = pd.read_csv('ensamble.csv')"
   ]
  },
  {
   "cell_type": "markdown",
   "id": "999157ab",
   "metadata": {},
   "source": [
    "### Data split"
   ]
  },
  {
   "cell_type": "code",
   "execution_count": 4,
   "id": "64ff9a44",
   "metadata": {},
   "outputs": [],
   "source": [
    "y=data['Dummy_Attrition_Yes']\n",
    "x=data.drop(['Dummy_Attrition_Yes'], axis=1)"
   ]
  },
  {
   "cell_type": "code",
   "execution_count": 5,
   "id": "85caeb33",
   "metadata": {},
   "outputs": [
    {
     "data": {
      "text/html": [
       "<div>\n",
       "<style scoped>\n",
       "    .dataframe tbody tr th:only-of-type {\n",
       "        vertical-align: middle;\n",
       "    }\n",
       "\n",
       "    .dataframe tbody tr th {\n",
       "        vertical-align: top;\n",
       "    }\n",
       "\n",
       "    .dataframe thead th {\n",
       "        text-align: right;\n",
       "    }\n",
       "</style>\n",
       "<table border=\"1\" class=\"dataframe\">\n",
       "  <thead>\n",
       "    <tr style=\"text-align: right;\">\n",
       "      <th></th>\n",
       "      <th>Age</th>\n",
       "      <th>DailyRate</th>\n",
       "      <th>DistanceFromHome</th>\n",
       "      <th>Education</th>\n",
       "      <th>EmployeeCount</th>\n",
       "      <th>EmployeeNumber</th>\n",
       "      <th>EnvironmentSatisfaction</th>\n",
       "      <th>HourlyRate</th>\n",
       "      <th>JobInvolvement</th>\n",
       "      <th>JobLevel</th>\n",
       "      <th>...</th>\n",
       "      <th>Dummy_JobRole_Research Director</th>\n",
       "      <th>Dummy_JobRole_Research Scientist</th>\n",
       "      <th>Dummy_JobRole_Sales Executive</th>\n",
       "      <th>Dummy_JobRole_Sales Representative</th>\n",
       "      <th>Dummy_MaritalStatus_Divorced</th>\n",
       "      <th>Dummy_MaritalStatus_Married</th>\n",
       "      <th>Dummy_MaritalStatus_Single</th>\n",
       "      <th>Dummy_Over18_Y</th>\n",
       "      <th>Dummy_OverTime_No</th>\n",
       "      <th>Dummy_OverTime_Yes</th>\n",
       "    </tr>\n",
       "  </thead>\n",
       "  <tbody>\n",
       "    <tr>\n",
       "      <th>0</th>\n",
       "      <td>41</td>\n",
       "      <td>1102</td>\n",
       "      <td>1</td>\n",
       "      <td>2</td>\n",
       "      <td>1</td>\n",
       "      <td>1</td>\n",
       "      <td>2</td>\n",
       "      <td>94</td>\n",
       "      <td>3</td>\n",
       "      <td>2</td>\n",
       "      <td>...</td>\n",
       "      <td>0</td>\n",
       "      <td>0</td>\n",
       "      <td>1</td>\n",
       "      <td>0</td>\n",
       "      <td>0</td>\n",
       "      <td>0</td>\n",
       "      <td>1</td>\n",
       "      <td>1</td>\n",
       "      <td>0</td>\n",
       "      <td>1</td>\n",
       "    </tr>\n",
       "    <tr>\n",
       "      <th>1</th>\n",
       "      <td>49</td>\n",
       "      <td>279</td>\n",
       "      <td>8</td>\n",
       "      <td>1</td>\n",
       "      <td>1</td>\n",
       "      <td>2</td>\n",
       "      <td>3</td>\n",
       "      <td>61</td>\n",
       "      <td>2</td>\n",
       "      <td>2</td>\n",
       "      <td>...</td>\n",
       "      <td>0</td>\n",
       "      <td>1</td>\n",
       "      <td>0</td>\n",
       "      <td>0</td>\n",
       "      <td>0</td>\n",
       "      <td>1</td>\n",
       "      <td>0</td>\n",
       "      <td>1</td>\n",
       "      <td>1</td>\n",
       "      <td>0</td>\n",
       "    </tr>\n",
       "    <tr>\n",
       "      <th>2</th>\n",
       "      <td>37</td>\n",
       "      <td>1373</td>\n",
       "      <td>2</td>\n",
       "      <td>2</td>\n",
       "      <td>1</td>\n",
       "      <td>4</td>\n",
       "      <td>4</td>\n",
       "      <td>92</td>\n",
       "      <td>2</td>\n",
       "      <td>1</td>\n",
       "      <td>...</td>\n",
       "      <td>0</td>\n",
       "      <td>0</td>\n",
       "      <td>0</td>\n",
       "      <td>0</td>\n",
       "      <td>0</td>\n",
       "      <td>0</td>\n",
       "      <td>1</td>\n",
       "      <td>1</td>\n",
       "      <td>0</td>\n",
       "      <td>1</td>\n",
       "    </tr>\n",
       "    <tr>\n",
       "      <th>3</th>\n",
       "      <td>33</td>\n",
       "      <td>1392</td>\n",
       "      <td>3</td>\n",
       "      <td>4</td>\n",
       "      <td>1</td>\n",
       "      <td>5</td>\n",
       "      <td>4</td>\n",
       "      <td>56</td>\n",
       "      <td>3</td>\n",
       "      <td>1</td>\n",
       "      <td>...</td>\n",
       "      <td>0</td>\n",
       "      <td>1</td>\n",
       "      <td>0</td>\n",
       "      <td>0</td>\n",
       "      <td>0</td>\n",
       "      <td>1</td>\n",
       "      <td>0</td>\n",
       "      <td>1</td>\n",
       "      <td>0</td>\n",
       "      <td>1</td>\n",
       "    </tr>\n",
       "    <tr>\n",
       "      <th>4</th>\n",
       "      <td>27</td>\n",
       "      <td>591</td>\n",
       "      <td>2</td>\n",
       "      <td>1</td>\n",
       "      <td>1</td>\n",
       "      <td>7</td>\n",
       "      <td>1</td>\n",
       "      <td>40</td>\n",
       "      <td>3</td>\n",
       "      <td>1</td>\n",
       "      <td>...</td>\n",
       "      <td>0</td>\n",
       "      <td>0</td>\n",
       "      <td>0</td>\n",
       "      <td>0</td>\n",
       "      <td>0</td>\n",
       "      <td>1</td>\n",
       "      <td>0</td>\n",
       "      <td>1</td>\n",
       "      <td>1</td>\n",
       "      <td>0</td>\n",
       "    </tr>\n",
       "  </tbody>\n",
       "</table>\n",
       "<p>5 rows × 55 columns</p>\n",
       "</div>"
      ],
      "text/plain": [
       "   Age  DailyRate  DistanceFromHome  Education  EmployeeCount  EmployeeNumber  \\\n",
       "0   41       1102                 1          2              1               1   \n",
       "1   49        279                 8          1              1               2   \n",
       "2   37       1373                 2          2              1               4   \n",
       "3   33       1392                 3          4              1               5   \n",
       "4   27        591                 2          1              1               7   \n",
       "\n",
       "   EnvironmentSatisfaction  HourlyRate  JobInvolvement  JobLevel  ...  \\\n",
       "0                        2          94               3         2  ...   \n",
       "1                        3          61               2         2  ...   \n",
       "2                        4          92               2         1  ...   \n",
       "3                        4          56               3         1  ...   \n",
       "4                        1          40               3         1  ...   \n",
       "\n",
       "   Dummy_JobRole_Research Director  Dummy_JobRole_Research Scientist  \\\n",
       "0                                0                                 0   \n",
       "1                                0                                 1   \n",
       "2                                0                                 0   \n",
       "3                                0                                 1   \n",
       "4                                0                                 0   \n",
       "\n",
       "   Dummy_JobRole_Sales Executive  Dummy_JobRole_Sales Representative  \\\n",
       "0                              1                                   0   \n",
       "1                              0                                   0   \n",
       "2                              0                                   0   \n",
       "3                              0                                   0   \n",
       "4                              0                                   0   \n",
       "\n",
       "   Dummy_MaritalStatus_Divorced  Dummy_MaritalStatus_Married  \\\n",
       "0                             0                            0   \n",
       "1                             0                            1   \n",
       "2                             0                            0   \n",
       "3                             0                            1   \n",
       "4                             0                            1   \n",
       "\n",
       "   Dummy_MaritalStatus_Single  Dummy_Over18_Y  Dummy_OverTime_No  \\\n",
       "0                           1               1                  0   \n",
       "1                           0               1                  1   \n",
       "2                           1               1                  0   \n",
       "3                           0               1                  0   \n",
       "4                           0               1                  1   \n",
       "\n",
       "   Dummy_OverTime_Yes  \n",
       "0                   1  \n",
       "1                   0  \n",
       "2                   1  \n",
       "3                   1  \n",
       "4                   0  \n",
       "\n",
       "[5 rows x 55 columns]"
      ]
     },
     "execution_count": 5,
     "metadata": {},
     "output_type": "execute_result"
    }
   ],
   "source": [
    "x.head()"
   ]
  },
  {
   "cell_type": "code",
   "execution_count": 6,
   "id": "aafb7f57",
   "metadata": {},
   "outputs": [],
   "source": [
    "#from sklearn import preprocessing\n",
    "#Xn = preprocessing.StandardScaler().fit(x).transform(x.astype(float))\n",
    "#Xn[0:5]"
   ]
  },
  {
   "cell_type": "code",
   "execution_count": 7,
   "id": "68313506",
   "metadata": {},
   "outputs": [],
   "source": [
    "from sklearn.model_selection import train_test_split\n",
    "x_train, x_test, y_train, y_test = train_test_split(x, y, test_size=0.3, stratify=y, random_state=seed )"
   ]
  },
  {
   "cell_type": "code",
   "execution_count": 8,
   "id": "9611aa3d",
   "metadata": {},
   "outputs": [
    {
     "data": {
      "text/html": [
       "<style>#sk-container-id-1 {color: black;}#sk-container-id-1 pre{padding: 0;}#sk-container-id-1 div.sk-toggleable {background-color: white;}#sk-container-id-1 label.sk-toggleable__label {cursor: pointer;display: block;width: 100%;margin-bottom: 0;padding: 0.3em;box-sizing: border-box;text-align: center;}#sk-container-id-1 label.sk-toggleable__label-arrow:before {content: \"▸\";float: left;margin-right: 0.25em;color: #696969;}#sk-container-id-1 label.sk-toggleable__label-arrow:hover:before {color: black;}#sk-container-id-1 div.sk-estimator:hover label.sk-toggleable__label-arrow:before {color: black;}#sk-container-id-1 div.sk-toggleable__content {max-height: 0;max-width: 0;overflow: hidden;text-align: left;background-color: #f0f8ff;}#sk-container-id-1 div.sk-toggleable__content pre {margin: 0.2em;color: black;border-radius: 0.25em;background-color: #f0f8ff;}#sk-container-id-1 input.sk-toggleable__control:checked~div.sk-toggleable__content {max-height: 200px;max-width: 100%;overflow: auto;}#sk-container-id-1 input.sk-toggleable__control:checked~label.sk-toggleable__label-arrow:before {content: \"▾\";}#sk-container-id-1 div.sk-estimator input.sk-toggleable__control:checked~label.sk-toggleable__label {background-color: #d4ebff;}#sk-container-id-1 div.sk-label input.sk-toggleable__control:checked~label.sk-toggleable__label {background-color: #d4ebff;}#sk-container-id-1 input.sk-hidden--visually {border: 0;clip: rect(1px 1px 1px 1px);clip: rect(1px, 1px, 1px, 1px);height: 1px;margin: -1px;overflow: hidden;padding: 0;position: absolute;width: 1px;}#sk-container-id-1 div.sk-estimator {font-family: monospace;background-color: #f0f8ff;border: 1px dotted black;border-radius: 0.25em;box-sizing: border-box;margin-bottom: 0.5em;}#sk-container-id-1 div.sk-estimator:hover {background-color: #d4ebff;}#sk-container-id-1 div.sk-parallel-item::after {content: \"\";width: 100%;border-bottom: 1px solid gray;flex-grow: 1;}#sk-container-id-1 div.sk-label:hover label.sk-toggleable__label {background-color: #d4ebff;}#sk-container-id-1 div.sk-serial::before {content: \"\";position: absolute;border-left: 1px solid gray;box-sizing: border-box;top: 0;bottom: 0;left: 50%;z-index: 0;}#sk-container-id-1 div.sk-serial {display: flex;flex-direction: column;align-items: center;background-color: white;padding-right: 0.2em;padding-left: 0.2em;position: relative;}#sk-container-id-1 div.sk-item {position: relative;z-index: 1;}#sk-container-id-1 div.sk-parallel {display: flex;align-items: stretch;justify-content: center;background-color: white;position: relative;}#sk-container-id-1 div.sk-item::before, #sk-container-id-1 div.sk-parallel-item::before {content: \"\";position: absolute;border-left: 1px solid gray;box-sizing: border-box;top: 0;bottom: 0;left: 50%;z-index: -1;}#sk-container-id-1 div.sk-parallel-item {display: flex;flex-direction: column;z-index: 1;position: relative;background-color: white;}#sk-container-id-1 div.sk-parallel-item:first-child::after {align-self: flex-end;width: 50%;}#sk-container-id-1 div.sk-parallel-item:last-child::after {align-self: flex-start;width: 50%;}#sk-container-id-1 div.sk-parallel-item:only-child::after {width: 0;}#sk-container-id-1 div.sk-dashed-wrapped {border: 1px dashed gray;margin: 0 0.4em 0.5em 0.4em;box-sizing: border-box;padding-bottom: 0.4em;background-color: white;}#sk-container-id-1 div.sk-label label {font-family: monospace;font-weight: bold;display: inline-block;line-height: 1.2em;}#sk-container-id-1 div.sk-label-container {text-align: center;}#sk-container-id-1 div.sk-container {/* jupyter's `normalize.less` sets `[hidden] { display: none; }` but bootstrap.min.css set `[hidden] { display: none !important; }` so we also need the `!important` here to be able to override the default hidden behavior on the sphinx rendered scikit-learn.org. See: https://github.com/scikit-learn/scikit-learn/issues/21755 */display: inline-block !important;position: relative;}#sk-container-id-1 div.sk-text-repr-fallback {display: none;}</style><div id=\"sk-container-id-1\" class=\"sk-top-container\"><div class=\"sk-text-repr-fallback\"><pre>LogisticRegression(C=1000, max_iter=10000, random_state=1234)</pre><b>In a Jupyter environment, please rerun this cell to show the HTML representation or trust the notebook. <br />On GitHub, the HTML representation is unable to render, please try loading this page with nbviewer.org.</b></div><div class=\"sk-container\" hidden><div class=\"sk-item\"><div class=\"sk-estimator sk-toggleable\"><input class=\"sk-toggleable__control sk-hidden--visually\" id=\"sk-estimator-id-1\" type=\"checkbox\" checked><label for=\"sk-estimator-id-1\" class=\"sk-toggleable__label sk-toggleable__label-arrow\">LogisticRegression</label><div class=\"sk-toggleable__content\"><pre>LogisticRegression(C=1000, max_iter=10000, random_state=1234)</pre></div></div></div></div></div>"
      ],
      "text/plain": [
       "LogisticRegression(C=1000, max_iter=10000, random_state=1234)"
      ]
     },
     "execution_count": 8,
     "metadata": {},
     "output_type": "execute_result"
    }
   ],
   "source": [
    "from sklearn.linear_model import LogisticRegression\n",
    "from sklearn.metrics import confusion_matrix\n",
    "#model = LogisticRegression(C=0.01, solver='liblinear', random_state=seed).fit(x_train,y_train)\n",
    "model = LogisticRegression(C=1000,max_iter=10000,random_state=seed).fit(x_train,y_train)\n",
    "model"
   ]
  },
  {
   "cell_type": "code",
   "execution_count": 9,
   "id": "b16f122f",
   "metadata": {},
   "outputs": [],
   "source": [
    "y_pred_train=model.predict(x_train)"
   ]
  },
  {
   "cell_type": "code",
   "execution_count": 10,
   "id": "e2d7f0d7",
   "metadata": {},
   "outputs": [
    {
     "name": "stdout",
     "output_type": "stream",
     "text": [
      "[[841  22]\n",
      " [ 90  76]]\n"
     ]
    }
   ],
   "source": [
    "from sklearn.metrics import confusion_matrix\n",
    "confusionMatrix = confusion_matrix(y_train, y_pred_train)\n",
    "print(confusionMatrix)\n",
    "\n",
    "### MATRIX IS INVERTED\n",
    "## TN | FP\n",
    "## FN | TP"
   ]
  },
  {
   "cell_type": "code",
   "execution_count": 11,
   "id": "f61801e1",
   "metadata": {},
   "outputs": [
    {
     "name": "stdout",
     "output_type": "stream",
     "text": [
      "              precision    recall  f1-score   support\n",
      "\n",
      "           0       0.90      0.97      0.94       863\n",
      "           1       0.78      0.46      0.58       166\n",
      "\n",
      "    accuracy                           0.89      1029\n",
      "   macro avg       0.84      0.72      0.76      1029\n",
      "weighted avg       0.88      0.89      0.88      1029\n",
      "\n"
     ]
    }
   ],
   "source": [
    "from sklearn.metrics import classification_report\n",
    "print(classification_report(y_train, y_pred_train))"
   ]
  },
  {
   "cell_type": "code",
   "execution_count": 12,
   "id": "9d1b3fcc",
   "metadata": {},
   "outputs": [
    {
     "data": {
      "image/png": "[encoded data removed]",
      "text/plain": [
       "<Figure size 640x480 with 1 Axes>"
      ]
     },
     "metadata": {},
     "output_type": "display_data"
    }
   ],
   "source": [
    "#Printes the area under the roc curve \n",
    "from sklearn.metrics import roc_auc_score\n",
    "from sklearn.metrics import roc_curve\n",
    "import matplotlib.pyplot as plt \n",
    "\n",
    "\n",
    "model_roc_auc = roc_auc_score(y_train, model.predict(x_train))\n",
    "fpr, tpr, thresholds = roc_curve(y_train, model.predict_proba(x_train)[:,1])\n",
    "plt.figure()\n",
    "plt.plot(fpr, tpr, label='Model (area = %0.2f)' % model_roc_auc)\n",
    "plt.plot([0, 1], [0, 1])\n",
    "plt.xlim([0.0, 1.0])\n",
    "plt.ylim([0.0, 1.05])\n",
    "plt.xlabel('False Positive Rate')\n",
    "plt.ylabel('True Positive Rate')\n",
    "plt.title('Receiver operating characteristic')\n",
    "plt.legend(loc='lower right')\n",
    "plt.savefig('DT_ROC')\n",
    "plt.show()"
   ]
  },
  {
   "cell_type": "code",
   "execution_count": 13,
   "id": "99db450a",
   "metadata": {},
   "outputs": [],
   "source": [
    "y_pred = model.predict(x_test)"
   ]
  },
  {
   "cell_type": "code",
   "execution_count": 14,
   "id": "dbe18dee",
   "metadata": {},
   "outputs": [
    {
     "data": {
      "text/plain": [
       "array([1.45968872e-01, 1.19701506e-01, 3.94495594e-01, 7.16476987e-02,\n",
       "       2.90554342e-01, 2.88820656e-02, 1.50198676e-02, 4.61983982e-02,\n",
       "       2.03569031e-01, 3.38777720e-02, 2.21716439e-01, 5.52608275e-03,\n",
       "       9.73528374e-01, 1.93874361e-02, 2.14679799e-02, 2.12092990e-02,\n",
       "       8.90786736e-02, 4.85020729e-02, 1.00129872e-01, 7.29623949e-03,\n",
       "       8.34565152e-02, 2.35851447e-01, 1.38495643e-02, 1.02688006e-02,\n",
       "       2.52677537e-02, 5.95904546e-04, 1.31106244e-01, 8.94599672e-02,\n",
       "       2.83045973e-01, 1.53001787e-02, 5.54770301e-02, 6.74628500e-02,\n",
       "       8.09887248e-02, 2.56620007e-02, 2.35423597e-01, 8.52087636e-01,\n",
       "       3.23738844e-01, 7.55714547e-02, 3.39805316e-02, 4.00111351e-01,\n",
       "       4.47373510e-02, 1.19637504e-01, 6.67525706e-04, 1.19466872e-01,\n",
       "       1.12227065e-02, 7.96232423e-02, 3.30714136e-01, 1.70370100e-03,\n",
       "       4.92672602e-03, 6.18784893e-04, 5.75393735e-03, 7.47146180e-03,\n",
       "       6.64114581e-01, 5.03562563e-02, 7.98479427e-03, 2.36242047e-02,\n",
       "       1.61042654e-02, 4.60720654e-02, 2.86786825e-01, 7.09456233e-03,\n",
       "       1.36069593e-02, 3.49870033e-01, 4.53922072e-01, 3.01339011e-02,\n",
       "       1.10861831e-01, 4.95016367e-01, 1.03263960e-01, 7.15426940e-04,\n",
       "       1.81497310e-02, 4.77783812e-01, 2.27520320e-02, 6.31406409e-03,\n",
       "       9.56250283e-01, 5.50678372e-03, 5.37917669e-02, 3.58705259e-02,\n",
       "       1.38506763e-01, 5.06803279e-02, 7.70983399e-03, 5.94160877e-01,\n",
       "       5.33815781e-01, 4.08441781e-02, 1.98710740e-02, 2.82866330e-03,\n",
       "       8.64598504e-02, 4.86047617e-01, 1.36716918e-02, 9.25497668e-01,\n",
       "       1.80893739e-01, 3.68454948e-03, 2.01153798e-02, 4.87632916e-02,\n",
       "       4.89218897e-02, 8.66689129e-01, 4.10831969e-03, 1.81535178e-02,\n",
       "       1.12118305e-02, 1.30217726e-01, 1.17158688e-01, 4.23726668e-01,\n",
       "       1.00220221e-02, 2.52089853e-01, 1.69199309e-03, 1.63432517e-01,\n",
       "       1.63304483e-02, 1.03163430e-02, 4.55499691e-02, 4.85141600e-02,\n",
       "       2.65904750e-01, 4.20250406e-01, 1.04247319e-01, 2.11610300e-03,\n",
       "       1.08492324e-02, 5.78922717e-01, 5.21035353e-02, 9.89167260e-02,\n",
       "       2.12885694e-01, 1.62747807e-01, 3.05958614e-01, 3.61278429e-02,\n",
       "       3.24396662e-02, 2.17292681e-01, 6.30507973e-02, 4.60274012e-02,\n",
       "       4.15951555e-02, 1.12839665e-01, 1.05018173e-01, 8.70638350e-03,\n",
       "       1.46188856e-03, 5.93275690e-03, 4.85280667e-01, 1.91396271e-01,\n",
       "       3.92402983e-02, 2.39334257e-02, 3.06862171e-01, 6.55350269e-03,\n",
       "       2.00337792e-01, 3.03801644e-02, 1.30023359e-01, 3.34571857e-01,\n",
       "       1.50128068e-01, 6.51928638e-03, 6.46079223e-03, 3.60578788e-02,\n",
       "       1.90148978e-01, 8.45717850e-01, 9.90507681e-02, 5.56632480e-02,\n",
       "       2.14677069e-01, 1.47678133e-02, 9.47692912e-02, 2.81973248e-01,\n",
       "       6.46783009e-02, 3.81986404e-03, 1.08670657e-01, 4.23472612e-02,\n",
       "       4.17777831e-02, 1.75512740e-01, 7.36931948e-02, 2.09260488e-01,\n",
       "       2.64128744e-02, 4.29676881e-02, 1.35206178e-01, 4.74213698e-01,\n",
       "       7.91639584e-03, 2.18367432e-02, 7.51504923e-02, 6.50419421e-02,\n",
       "       1.41270489e-02, 1.78159771e-01, 5.77053308e-01, 2.63767178e-02,\n",
       "       1.79801578e-01, 2.64086333e-03, 4.92816264e-01, 3.29366185e-01,\n",
       "       1.54516980e-01, 2.98579429e-02, 6.86226311e-01, 3.22091711e-02,\n",
       "       5.21947675e-03, 7.24268310e-01, 3.10647211e-01, 6.72823324e-03,\n",
       "       2.40121554e-01, 1.08162378e-01, 6.89892183e-01, 2.86895610e-02,\n",
       "       1.38882346e-01, 1.90543001e-01, 5.97822036e-03, 1.96111390e-02,\n",
       "       5.19933931e-02, 8.13065325e-03, 3.28549758e-02, 1.63782163e-03,\n",
       "       4.38404253e-03, 2.25934208e-02, 2.32684852e-01, 1.00096106e-01,\n",
       "       7.92054342e-01, 2.04023643e-02, 3.53303419e-01, 9.64525071e-02,\n",
       "       1.49239012e-02, 2.51958190e-03, 8.15609563e-02, 3.98609130e-02,\n",
       "       3.72489902e-03, 1.05731172e-02, 1.79461044e-01, 1.39806588e-01,\n",
       "       6.16399668e-01, 5.45482197e-01, 2.67132889e-01, 5.84249473e-01,\n",
       "       1.25906419e-02, 1.41961076e-01, 2.63780341e-03, 1.08621248e-01,\n",
       "       8.34035886e-01, 6.08789349e-02, 3.26175696e-01, 1.88467639e-01,\n",
       "       4.34075994e-03, 1.08711385e-02, 4.24911284e-02, 1.16829741e-02,\n",
       "       2.60581100e-01, 5.00845493e-03, 6.43537536e-02, 2.65418647e-02,\n",
       "       9.96765184e-02, 7.33190851e-01, 7.94708796e-01, 9.84920169e-02,\n",
       "       5.42085786e-03, 2.36460487e-01, 1.37915758e-01, 1.87490411e-02,\n",
       "       2.01188136e-03, 3.53572938e-01, 1.93328586e-02, 3.78846379e-02,\n",
       "       1.13649727e-01, 2.14227694e-02, 1.86933000e-01, 1.95090003e-01,\n",
       "       1.49560096e-03, 7.25926265e-02, 5.79632361e-02, 5.62358892e-02,\n",
       "       2.01255610e-03, 7.33030541e-01, 5.55197606e-03, 5.37311928e-01,\n",
       "       5.34843373e-03, 7.54000061e-01, 4.48780792e-02, 6.91683583e-01,\n",
       "       6.56873300e-01, 1.92637348e-01, 4.11990422e-01, 8.29126858e-02,\n",
       "       8.61302395e-02, 4.24885051e-01, 1.06449241e-02, 7.15166050e-03,\n",
       "       2.47685075e-01, 7.84942402e-02, 1.45507912e-01, 1.30557301e-01,\n",
       "       2.10738855e-01, 2.16019293e-01, 1.78297993e-02, 3.62665664e-02,\n",
       "       3.22237963e-01, 4.34836901e-02, 2.09976165e-01, 1.03953514e-01,\n",
       "       3.55696197e-04, 4.16353663e-01, 2.93025898e-01, 1.89308505e-02,\n",
       "       8.34944771e-03, 1.08921549e-02, 2.33828047e-02, 2.50405193e-01,\n",
       "       5.49959543e-02, 3.39162526e-02, 8.52275868e-03, 1.20581612e-02,\n",
       "       9.11894108e-03, 2.36267341e-01, 3.10313102e-01, 1.71239463e-01,\n",
       "       5.65760262e-01, 1.53399496e-02, 1.87730122e-02, 2.91214437e-01,\n",
       "       3.15462056e-02, 5.19372064e-02, 5.26850968e-01, 8.49140389e-03,\n",
       "       1.13164613e-02, 2.19242131e-02, 5.89157105e-03, 1.90737049e-02,\n",
       "       2.27237316e-04, 1.17162698e-01, 2.42639816e-02, 7.26373901e-02,\n",
       "       1.57586978e-02, 9.58127646e-02, 9.76756155e-03, 1.97975278e-01,\n",
       "       4.38069746e-01, 9.95886613e-03, 6.04381259e-02, 1.02265466e-02,\n",
       "       3.90129335e-02, 5.49228918e-02, 5.53268654e-02, 2.39810114e-02,\n",
       "       2.96844264e-02, 6.89762234e-02, 6.44928064e-01, 4.21733001e-02,\n",
       "       5.54150685e-01, 9.32918039e-03, 1.90033011e-02, 1.35605398e-01,\n",
       "       1.21158062e-01, 4.05685188e-02, 1.60396784e-01, 1.64250545e-01,\n",
       "       1.63017524e-01, 2.39904800e-01, 1.97344402e-03, 9.16669818e-03,\n",
       "       6.99536905e-01, 1.86582292e-01, 1.57207478e-01, 1.93672707e-02,\n",
       "       1.43132151e-02, 4.72574517e-02, 6.08292146e-02, 2.53610825e-02,\n",
       "       9.18675519e-01, 1.95821371e-02, 1.30186021e-01, 5.58287784e-01,\n",
       "       5.41703152e-03, 5.68346581e-02, 7.01895020e-01, 3.22249030e-02,\n",
       "       7.48663918e-03, 7.75654944e-02, 4.71762575e-01, 9.26633503e-02,\n",
       "       9.86982805e-02, 1.79150982e-02, 1.08227748e-01, 1.60645920e-02,\n",
       "       5.04668412e-02, 3.39502674e-02, 1.71655716e-02, 5.72019965e-02,\n",
       "       1.95183360e-02, 1.49775827e-01, 3.27698293e-01, 6.80026507e-01,\n",
       "       3.76258628e-02, 9.55459635e-02, 1.63465769e-01, 2.52681290e-02,\n",
       "       2.18148513e-02, 5.42344798e-02, 3.28576992e-01, 2.96059090e-04,\n",
       "       2.00124716e-01, 1.16629405e-01, 3.71589460e-02, 3.98676569e-01,\n",
       "       3.77761732e-02, 2.98635934e-03, 5.39648296e-02, 1.15294570e-01,\n",
       "       6.72247790e-02, 1.44287506e-01, 3.58280254e-02, 9.91847095e-02,\n",
       "       5.13983553e-02, 7.90052070e-03, 6.05974889e-02, 3.36398410e-01,\n",
       "       5.85047712e-03, 5.48033303e-02, 5.14328687e-01, 3.80271769e-03,\n",
       "       3.96717105e-01, 1.18086863e-01, 1.59758383e-01, 3.93060956e-02,\n",
       "       1.06611972e-01, 3.97359760e-01, 2.18603168e-02, 1.30202050e-01,\n",
       "       5.80909840e-02, 1.76648336e-02, 6.15942547e-01, 8.27941778e-03,\n",
       "       2.77092899e-02, 7.25779388e-02, 2.81734352e-01, 1.42900024e-01,\n",
       "       7.30911517e-01, 2.09594072e-01, 1.83843420e-02, 1.46565056e-01,\n",
       "       4.34807278e-01, 7.49818647e-02, 1.25303891e-03, 3.12850058e-02,\n",
       "       1.14052086e-02, 1.22084531e-01, 1.09171663e-01, 2.12927664e-02,\n",
       "       1.61973832e-03, 5.34958134e-02, 2.68889203e-02, 2.94798504e-02,\n",
       "       6.76750039e-03, 3.13351127e-01, 7.73275496e-02, 5.29511544e-03,\n",
       "       4.13750878e-01, 3.20713678e-02, 1.61345134e-01, 1.09741902e-01,\n",
       "       1.25197003e-02])"
      ]
     },
     "execution_count": 14,
     "metadata": {},
     "output_type": "execute_result"
    }
   ],
   "source": [
    "prob = model.predict_proba(x_test)\n",
    "prob[:,1]"
   ]
  },
  {
   "cell_type": "code",
   "execution_count": 15,
   "id": "8c02332f",
   "metadata": {},
   "outputs": [
    {
     "name": "stdout",
     "output_type": "stream",
     "text": [
      "[[365   5]\n",
      " [ 38  33]]\n"
     ]
    }
   ],
   "source": [
    "from sklearn.metrics import confusion_matrix\n",
    "confusionMatrix = confusion_matrix(y_test, y_pred)\n",
    "print(confusionMatrix)\n",
    "\n",
    "### MATRIX IS INVERTED\n",
    "## TN | FP\n",
    "## FN | TP"
   ]
  },
  {
   "cell_type": "code",
   "execution_count": 16,
   "id": "9e0db841",
   "metadata": {
    "scrolled": true
   },
   "outputs": [
    {
     "data": {
      "image/png": "[encoded data removed]",
      "text/plain": [
       "<Figure size 800x800 with 1 Axes>"
      ]
     },
     "metadata": {},
     "output_type": "display_data"
    }
   ],
   "source": [
    "import matplotlib.pyplot as plt\n",
    "cm = confusionMatrix\n",
    "\n",
    "fig, ax = plt.subplots(figsize=(8, 8))\n",
    "ax.imshow(cm)\n",
    "ax.grid(False)\n",
    "ax.xaxis.set(ticks=(0, 1), ticklabels=('Predicted 0s', 'Predicted 1s'))\n",
    "ax.yaxis.set(ticks=(0, 1), ticklabels=('Actual 0s', 'Actual 1s'))\n",
    "ax.set_ylim(1.5, -0.5)\n",
    "for i in range(2):\n",
    "    for j in range(2):\n",
    "        ax.text(j, i, cm[i, j], ha='center', va='center', color='red')\n",
    "plt.show()"
   ]
  },
  {
   "cell_type": "code",
   "execution_count": 17,
   "id": "5e359032",
   "metadata": {},
   "outputs": [
    {
     "data": {
      "image/png": "[encoded data removed]",
      "text/plain": [
       "<Figure size 640x480 with 1 Axes>"
      ]
     },
     "metadata": {},
     "output_type": "display_data"
    }
   ],
   "source": [
    "#Printes the area under the roc curve \n",
    "from sklearn.metrics import roc_auc_score\n",
    "from sklearn.metrics import roc_curve\n",
    "import matplotlib.pyplot as plt \n",
    "\n",
    "\n",
    "model_roc_auc = roc_auc_score(y_test, model.predict(x_test))\n",
    "fpr, tpr, thresholds = roc_curve(y_test, model.predict_proba(x_test)[:,1])\n",
    "plt.figure()\n",
    "plt.plot(fpr, tpr, label='Model (area = %0.2f)' % model_roc_auc)\n",
    "plt.plot([0, 1], [0, 1])\n",
    "plt.xlim([0.0, 1.0])\n",
    "plt.ylim([0.0, 1.05])\n",
    "plt.xlabel('False Positive Rate')\n",
    "plt.ylabel('True Positive Rate')\n",
    "plt.title('Receiver operating characteristic')\n",
    "plt.legend(loc='lower right')\n",
    "plt.savefig('DT_ROC')\n",
    "plt.show()"
   ]
  },
  {
   "cell_type": "code",
   "execution_count": 18,
   "id": "10d739c5",
   "metadata": {},
   "outputs": [
    {
     "name": "stdout",
     "output_type": "stream",
     "text": [
      "              precision    recall  f1-score   support\n",
      "\n",
      "           0       0.91      0.99      0.94       370\n",
      "           1       0.87      0.46      0.61        71\n",
      "\n",
      "    accuracy                           0.90       441\n",
      "   macro avg       0.89      0.73      0.77       441\n",
      "weighted avg       0.90      0.90      0.89       441\n",
      "\n"
     ]
    }
   ],
   "source": [
    "from sklearn.metrics import classification_report\n",
    "print(classification_report(y_test, y_pred))\n",
    "\n",
    "#precision is the ratio tp / (tp + fp) % of real positive over all the positives given by the algorithm\n",
    "#recall is the ratio tp / (tp + fn) positive predictions over total positive\n",
    "#Accuracy tp+tn/(tp+tn+fp+fn)\n",
    "#Specificity= tn/tn+fp negative predictions over total positive\n",
    "\n",
    "tn=confusionMatrix[0,0]\n",
    "fp=confusionMatrix[0,1]\n",
    "fn=confusionMatrix[1,0]\n",
    "tp=confusionMatrix[1,1]\n",
    "\n",
    "# Second line on output is the good one"
   ]
  },
  {
   "cell_type": "code",
   "execution_count": 19,
   "id": "18012193",
   "metadata": {},
   "outputs": [
    {
     "data": {
      "text/plain": [
       "array([[-3.31267147e-02, -3.79869311e-04,  4.40034286e-02,\n",
       "        -2.01087973e-01,  9.89141514e-04, -8.33360691e-05,\n",
       "        -4.25181596e-01, -3.10774276e-04, -4.72007809e-01,\n",
       "        -2.34891740e-01, -3.52489168e-01, -1.10361525e-05,\n",
       "        -1.47647951e-05,  1.70039824e-01, -1.86828816e-03,\n",
       "        -8.23563250e-03, -2.28062986e-01,  7.91313211e-02,\n",
       "        -4.44290757e-02, -5.15529905e-02, -1.39442782e-01,\n",
       "        -3.64759266e-01,  7.83691292e-02, -1.15189500e-01,\n",
       "         1.60505088e-01, -1.34164378e-01, -7.14235248e-01,\n",
       "         7.90411113e-01, -7.51867239e-02,  3.51616248e-02,\n",
       "        -3.22822615e-01,  2.88650132e-01,  7.01270095e-02,\n",
       "        -8.86682732e-02,  2.49155608e-01, -4.81510080e-01,\n",
       "        -1.31020108e-01,  3.82904985e-01, -2.36042138e-01,\n",
       "         2.37031280e-01, -2.46833875e-01,  7.00399500e-02,\n",
       "         7.89334311e-01,  1.57139325e-02, -3.66035544e-01,\n",
       "        -1.62966450e-01, -3.57835729e-01,  1.27141092e-02,\n",
       "         2.46858436e-01, -5.87724987e-01, -1.89281850e-01,\n",
       "         7.77995978e-01,  9.89141515e-04, -1.00252926e+00,\n",
       "         1.00351840e+00]])"
      ]
     },
     "execution_count": 19,
     "metadata": {},
     "output_type": "execute_result"
    }
   ],
   "source": [
    "model.coef_"
   ]
  },
  {
   "cell_type": "code",
   "execution_count": 20,
   "id": "ac21239d",
   "metadata": {},
   "outputs": [
    {
     "data": {
      "text/plain": [
       "array([0.00098923])"
      ]
     },
     "execution_count": 20,
     "metadata": {},
     "output_type": "execute_result"
    }
   ],
   "source": [
    "model.intercept_"
   ]
  },
  {
   "cell_type": "markdown",
   "id": "0caf8322",
   "metadata": {},
   "source": [
    "### Export results to CSV"
   ]
  },
  {
   "cell_type": "code",
   "execution_count": 21,
   "id": "02888daa",
   "metadata": {},
   "outputs": [
    {
     "data": {
      "text/html": [
       "<div>\n",
       "<style scoped>\n",
       "    .dataframe tbody tr th:only-of-type {\n",
       "        vertical-align: middle;\n",
       "    }\n",
       "\n",
       "    .dataframe tbody tr th {\n",
       "        vertical-align: top;\n",
       "    }\n",
       "\n",
       "    .dataframe thead th {\n",
       "        text-align: right;\n",
       "    }\n",
       "</style>\n",
       "<table border=\"1\" class=\"dataframe\">\n",
       "  <thead>\n",
       "    <tr style=\"text-align: right;\">\n",
       "      <th></th>\n",
       "      <th>EmployeeNumber</th>\n",
       "      <th>predict</th>\n",
       "    </tr>\n",
       "  </thead>\n",
       "  <tbody>\n",
       "    <tr>\n",
       "      <th>298</th>\n",
       "      <td>407</td>\n",
       "      <td>0</td>\n",
       "    </tr>\n",
       "    <tr>\n",
       "      <th>625</th>\n",
       "      <td>864</td>\n",
       "      <td>0</td>\n",
       "    </tr>\n",
       "    <tr>\n",
       "      <th>1349</th>\n",
       "      <td>1893</td>\n",
       "      <td>0</td>\n",
       "    </tr>\n",
       "    <tr>\n",
       "      <th>1361</th>\n",
       "      <td>1918</td>\n",
       "      <td>0</td>\n",
       "    </tr>\n",
       "    <tr>\n",
       "      <th>343</th>\n",
       "      <td>463</td>\n",
       "      <td>0</td>\n",
       "    </tr>\n",
       "    <tr>\n",
       "      <th>...</th>\n",
       "      <td>...</td>\n",
       "      <td>...</td>\n",
       "    </tr>\n",
       "    <tr>\n",
       "      <th>1395</th>\n",
       "      <td>1967</td>\n",
       "      <td>0</td>\n",
       "    </tr>\n",
       "    <tr>\n",
       "      <th>305</th>\n",
       "      <td>419</td>\n",
       "      <td>0</td>\n",
       "    </tr>\n",
       "    <tr>\n",
       "      <th>1256</th>\n",
       "      <td>1760</td>\n",
       "      <td>0</td>\n",
       "    </tr>\n",
       "    <tr>\n",
       "      <th>553</th>\n",
       "      <td>763</td>\n",
       "      <td>0</td>\n",
       "    </tr>\n",
       "    <tr>\n",
       "      <th>392</th>\n",
       "      <td>522</td>\n",
       "      <td>0</td>\n",
       "    </tr>\n",
       "  </tbody>\n",
       "</table>\n",
       "<p>441 rows × 2 columns</p>\n",
       "</div>"
      ],
      "text/plain": [
       "      EmployeeNumber  predict\n",
       "298              407        0\n",
       "625              864        0\n",
       "1349            1893        0\n",
       "1361            1918        0\n",
       "343              463        0\n",
       "...              ...      ...\n",
       "1395            1967        0\n",
       "305              419        0\n",
       "1256            1760        0\n",
       "553              763        0\n",
       "392              522        0\n",
       "\n",
       "[441 rows x 2 columns]"
      ]
     },
     "execution_count": 21,
     "metadata": {},
     "output_type": "execute_result"
    }
   ],
   "source": [
    "aux=x_test\n",
    "aux['predict']=y_pred\n",
    "aux[['EmployeeNumber','predict']]"
   ]
  },
  {
   "cell_type": "code",
   "execution_count": 22,
   "id": "4694eea6",
   "metadata": {},
   "outputs": [],
   "source": [
    "aux.to_csv('AttrttionResultsLogReg', index=False) "
   ]
  },
  {
   "cell_type": "code",
   "execution_count": null,
   "id": "c788d881",
   "metadata": {},
   "outputs": [],
   "source": []
  },
  {
   "cell_type": "code",
   "execution_count": null,
   "id": "d3c7d70c",
   "metadata": {},
   "outputs": [],
   "source": []
  },
  {
   "cell_type": "code",
   "execution_count": null,
   "id": "db923d12",
   "metadata": {},
   "outputs": [],
   "source": []
  },
  {
   "cell_type": "code",
   "execution_count": null,
   "id": "9346d03a",
   "metadata": {},
   "outputs": [],
   "source": []
  },
  {
   "cell_type": "code",
   "execution_count": null,
   "id": "d4544328",
   "metadata": {},
   "outputs": [],
   "source": []
  },
  {
   "cell_type": "code",
   "execution_count": null,
   "id": "8e10c99b",
   "metadata": {},
   "outputs": [],
   "source": []
  },
  {
   "cell_type": "code",
   "execution_count": null,
   "id": "7179dbb2",
   "metadata": {},
   "outputs": [],
   "source": []
  },
  {
   "cell_type": "code",
   "execution_count": null,
   "id": "2a560b41",
   "metadata": {},
   "outputs": [],
   "source": []
  },
  {
   "cell_type": "code",
   "execution_count": null,
   "id": "c03b966d",
   "metadata": {},
   "outputs": [],
   "source": []
  },
  {
   "cell_type": "code",
   "execution_count": null,
   "id": "881fd29f",
   "metadata": {},
   "outputs": [],
   "source": []
  },
  {
   "cell_type": "code",
   "execution_count": null,
   "id": "ef425a02",
   "metadata": {},
   "outputs": [],
   "source": []
  },
  {
   "cell_type": "code",
   "execution_count": null,
   "id": "10caded5",
   "metadata": {},
   "outputs": [],
   "source": []
  },
  {
   "cell_type": "code",
   "execution_count": null,
   "id": "e26ba7aa",
   "metadata": {},
   "outputs": [],
   "source": []
  },
  {
   "cell_type": "code",
   "execution_count": null,
   "id": "f350e40f",
   "metadata": {},
   "outputs": [],
   "source": []
  },
  {
   "cell_type": "code",
   "execution_count": null,
   "id": "454bc55b",
   "metadata": {},
   "outputs": [],
   "source": []
  },
  {
   "cell_type": "code",
   "execution_count": null,
   "id": "2c2650c5",
   "metadata": {},
   "outputs": [],
   "source": []
  },
  {
   "cell_type": "code",
   "execution_count": null,
   "id": "0c887e79",
   "metadata": {},
   "outputs": [],
   "source": []
  },
  {
   "cell_type": "code",
   "execution_count": null,
   "id": "5522b19a",
   "metadata": {},
   "outputs": [],
   "source": [
    "\n"
   ]
  },
  {
   "cell_type": "code",
   "execution_count": null,
   "id": "537aa2bd",
   "metadata": {},
   "outputs": [],
   "source": []
  },
  {
   "cell_type": "code",
   "execution_count": null,
   "id": "cd205c63",
   "metadata": {},
   "outputs": [],
   "source": []
  },
  {
   "cell_type": "code",
   "execution_count": null,
   "id": "62c45577",
   "metadata": {},
   "outputs": [],
   "source": []
  },
  {
   "cell_type": "code",
   "execution_count": null,
   "id": "de93ed5d",
   "metadata": {},
   "outputs": [],
   "source": []
  },
  {
   "cell_type": "code",
   "execution_count": null,
   "id": "cf915191",
   "metadata": {},
   "outputs": [],
   "source": []
  },
  {
   "cell_type": "code",
   "execution_count": null,
   "id": "974bf6cb",
   "metadata": {},
   "outputs": [],
   "source": []
  },
  {
   "cell_type": "code",
   "execution_count": null,
   "id": "b0cb9725",
   "metadata": {},
   "outputs": [],
   "source": []
  },
  {
   "cell_type": "code",
   "execution_count": null,
   "id": "553cd305",
   "metadata": {},
   "outputs": [],
   "source": []
  },
  {
   "cell_type": "code",
   "execution_count": null,
   "id": "23d87e7d",
   "metadata": {},
   "outputs": [],
   "source": []
  },
  {
   "cell_type": "code",
   "execution_count": null,
   "id": "79a44a58",
   "metadata": {},
   "outputs": [],
   "source": []
  },
  {
   "cell_type": "code",
   "execution_count": null,
   "id": "9ba9656c",
   "metadata": {},
   "outputs": [],
   "source": []
  },
  {
   "cell_type": "code",
   "execution_count": null,
   "id": "d2011acc",
   "metadata": {},
   "outputs": [],
   "source": []
  },
  {
   "cell_type": "code",
   "execution_count": null,
   "id": "9bbeca6b",
   "metadata": {},
   "outputs": [],
   "source": []
  },
  {
   "cell_type": "code",
   "execution_count": null,
   "id": "30871cd7",
   "metadata": {},
   "outputs": [],
   "source": []
  },
  {
   "cell_type": "code",
   "execution_count": null,
   "id": "3997a905",
   "metadata": {},
   "outputs": [],
   "source": []
  },
  {
   "cell_type": "code",
   "execution_count": null,
   "id": "5e64fd49",
   "metadata": {},
   "outputs": [],
   "source": []
  },
  {
   "cell_type": "code",
   "execution_count": null,
   "id": "c5eb6eb5",
   "metadata": {},
   "outputs": [],
   "source": []
  },
  {
   "cell_type": "code",
   "execution_count": null,
   "id": "4e43ae0c",
   "metadata": {},
   "outputs": [],
   "source": []
  },
  {
   "cell_type": "code",
   "execution_count": null,
   "id": "c397e4b2",
   "metadata": {},
   "outputs": [],
   "source": []
  },
  {
   "cell_type": "code",
   "execution_count": null,
   "id": "2f61a11d",
   "metadata": {},
   "outputs": [],
   "source": []
  },
  {
   "cell_type": "code",
   "execution_count": null,
   "id": "b0db0f7c",
   "metadata": {},
   "outputs": [],
   "source": []
  },
  {
   "cell_type": "code",
   "execution_count": null,
   "id": "4425cce6",
   "metadata": {},
   "outputs": [],
   "source": []
  },
  {
   "cell_type": "code",
   "execution_count": null,
   "id": "29ef60ce",
   "metadata": {},
   "outputs": [],
   "source": []
  },
  {
   "cell_type": "code",
   "execution_count": null,
   "id": "ad601687",
   "metadata": {},
   "outputs": [],
   "source": []
  },
  {
   "cell_type": "code",
   "execution_count": null,
   "id": "322b9c87",
   "metadata": {},
   "outputs": [],
   "source": []
  },
  {
   "cell_type": "code",
   "execution_count": null,
   "id": "1794d84e",
   "metadata": {},
   "outputs": [],
   "source": []
  },
  {
   "cell_type": "code",
   "execution_count": null,
   "id": "58707a45",
   "metadata": {},
   "outputs": [],
   "source": []
  },
  {
   "cell_type": "code",
   "execution_count": null,
   "id": "cb25c5a3",
   "metadata": {},
   "outputs": [],
   "source": []
  },
  {
   "cell_type": "code",
   "execution_count": null,
   "id": "eaa8c9d2",
   "metadata": {},
   "outputs": [],
   "source": []
  },
  {
   "cell_type": "code",
   "execution_count": null,
   "id": "aa0caa5e",
   "metadata": {},
   "outputs": [],
   "source": []
  },
  {
   "cell_type": "code",
   "execution_count": null,
   "id": "0ff31988",
   "metadata": {},
   "outputs": [],
   "source": []
  },
  {
   "cell_type": "code",
   "execution_count": null,
   "id": "d51b4e14",
   "metadata": {},
   "outputs": [],
   "source": []
  },
  {
   "cell_type": "code",
   "execution_count": null,
   "id": "9a0a59f2",
   "metadata": {},
   "outputs": [],
   "source": []
  },
  {
   "cell_type": "code",
   "execution_count": null,
   "id": "11be700c",
   "metadata": {},
   "outputs": [],
   "source": []
  },
  {
   "cell_type": "code",
   "execution_count": null,
   "id": "a5474a86",
   "metadata": {},
   "outputs": [],
   "source": []
  },
  {
   "cell_type": "code",
   "execution_count": null,
   "id": "0f32489e",
   "metadata": {},
   "outputs": [],
   "source": []
  },
  {
   "cell_type": "code",
   "execution_count": null,
   "id": "d641c7a9",
   "metadata": {},
   "outputs": [],
   "source": []
  },
  {
   "cell_type": "code",
   "execution_count": null,
   "id": "0d7f4bb5",
   "metadata": {},
   "outputs": [],
   "source": []
  },
  {
   "cell_type": "code",
   "execution_count": null,
   "id": "8e8ae9b4",
   "metadata": {},
   "outputs": [],
   "source": []
  },
  {
   "cell_type": "code",
   "execution_count": null,
   "id": "e722bf07",
   "metadata": {},
   "outputs": [],
   "source": []
  },
  {
   "cell_type": "code",
   "execution_count": null,
   "id": "a761da05",
   "metadata": {},
   "outputs": [],
   "source": []
  },
  {
   "cell_type": "code",
   "execution_count": null,
   "id": "6fa81260",
   "metadata": {},
   "outputs": [],
   "source": []
  },
  {
   "cell_type": "code",
   "execution_count": null,
   "id": "dca8ac6a",
   "metadata": {},
   "outputs": [],
   "source": []
  },
  {
   "cell_type": "code",
   "execution_count": null,
   "id": "4974f057",
   "metadata": {},
   "outputs": [],
   "source": []
  },
  {
   "cell_type": "code",
   "execution_count": null,
   "id": "f9dda12f",
   "metadata": {},
   "outputs": [],
   "source": []
  },
  {
   "cell_type": "code",
   "execution_count": null,
   "id": "1e4e7489",
   "metadata": {},
   "outputs": [],
   "source": []
  },
  {
   "cell_type": "code",
   "execution_count": null,
   "id": "ca670134",
   "metadata": {},
   "outputs": [],
   "source": []
  },
  {
   "cell_type": "code",
   "execution_count": null,
   "id": "8ffad6c2",
   "metadata": {},
   "outputs": [],
   "source": []
  },
  {
   "cell_type": "code",
   "execution_count": null,
   "id": "3635785b",
   "metadata": {},
   "outputs": [],
   "source": []
  },
  {
   "cell_type": "code",
   "execution_count": null,
   "id": "60615024",
   "metadata": {},
   "outputs": [],
   "source": []
  },
  {
   "cell_type": "code",
   "execution_count": null,
   "id": "2415e737",
   "metadata": {},
   "outputs": [],
   "source": []
  },
  {
   "cell_type": "code",
   "execution_count": null,
   "id": "bfea7969",
   "metadata": {},
   "outputs": [],
   "source": []
  },
  {
   "cell_type": "code",
   "execution_count": null,
   "id": "f0578393",
   "metadata": {},
   "outputs": [],
   "source": []
  },
  {
   "cell_type": "code",
   "execution_count": null,
   "id": "ce81e429",
   "metadata": {},
   "outputs": [],
   "source": []
  },
  {
   "cell_type": "code",
   "execution_count": null,
   "id": "e7f3e64d",
   "metadata": {},
   "outputs": [],
   "source": []
  },
  {
   "cell_type": "code",
   "execution_count": null,
   "id": "525f721a",
   "metadata": {},
   "outputs": [],
   "source": []
  },
  {
   "cell_type": "code",
   "execution_count": null,
   "id": "2196125d",
   "metadata": {},
   "outputs": [],
   "source": []
  },
  {
   "cell_type": "code",
   "execution_count": null,
   "id": "321a3296",
   "metadata": {},
   "outputs": [],
   "source": []
  },
  {
   "cell_type": "code",
   "execution_count": null,
   "id": "446849e3",
   "metadata": {},
   "outputs": [],
   "source": []
  },
  {
   "cell_type": "code",
   "execution_count": null,
   "id": "b87683f0",
   "metadata": {},
   "outputs": [],
   "source": []
  },
  {
   "cell_type": "code",
   "execution_count": null,
   "id": "6dd20ac8",
   "metadata": {},
   "outputs": [],
   "source": []
  },
  {
   "cell_type": "code",
   "execution_count": null,
   "id": "2e50ec3c",
   "metadata": {},
   "outputs": [],
   "source": []
  },
  {
   "cell_type": "code",
   "execution_count": null,
   "id": "8df0c98c",
   "metadata": {},
   "outputs": [],
   "source": []
  },
  {
   "cell_type": "code",
   "execution_count": null,
   "id": "389ac8cb",
   "metadata": {},
   "outputs": [],
   "source": []
  },
  {
   "cell_type": "code",
   "execution_count": null,
   "id": "ef6845f8",
   "metadata": {},
   "outputs": [],
   "source": []
  },
  {
   "cell_type": "code",
   "execution_count": null,
   "id": "46075476",
   "metadata": {},
   "outputs": [],
   "source": []
  },
  {
   "cell_type": "code",
   "execution_count": null,
   "id": "88481699",
   "metadata": {},
   "outputs": [],
   "source": []
  },
  {
   "cell_type": "code",
   "execution_count": null,
   "id": "0d978155",
   "metadata": {},
   "outputs": [],
   "source": []
  },
  {
   "cell_type": "code",
   "execution_count": null,
   "id": "ef2da638",
   "metadata": {},
   "outputs": [],
   "source": []
  },
  {
   "cell_type": "code",
   "execution_count": null,
   "id": "aa09c0be",
   "metadata": {},
   "outputs": [],
   "source": []
  },
  {
   "cell_type": "code",
   "execution_count": null,
   "id": "1f2dfe25",
   "metadata": {},
   "outputs": [],
   "source": []
  },
  {
   "cell_type": "code",
   "execution_count": null,
   "id": "fcd8256a",
   "metadata": {},
   "outputs": [],
   "source": []
  },
  {
   "cell_type": "code",
   "execution_count": null,
   "id": "d2ebdf1a",
   "metadata": {},
   "outputs": [],
   "source": []
  },
  {
   "cell_type": "code",
   "execution_count": null,
   "id": "17219300",
   "metadata": {},
   "outputs": [],
   "source": []
  },
  {
   "cell_type": "code",
   "execution_count": null,
   "id": "c0377003",
   "metadata": {},
   "outputs": [],
   "source": []
  },
  {
   "cell_type": "code",
   "execution_count": null,
   "id": "145b744d",
   "metadata": {},
   "outputs": [],
   "source": []
  },
  {
   "cell_type": "code",
   "execution_count": null,
   "id": "18d54de7",
   "metadata": {},
   "outputs": [],
   "source": []
  },
  {
   "cell_type": "code",
   "execution_count": null,
   "id": "b621a248",
   "metadata": {},
   "outputs": [],
   "source": []
  },
  {
   "cell_type": "code",
   "execution_count": null,
   "id": "69629238",
   "metadata": {},
   "outputs": [],
   "source": []
  },
  {
   "cell_type": "code",
   "execution_count": null,
   "id": "30be9704",
   "metadata": {},
   "outputs": [],
   "source": []
  },
  {
   "cell_type": "code",
   "execution_count": null,
   "id": "4ff907a6",
   "metadata": {},
   "outputs": [],
   "source": []
  },
  {
   "cell_type": "code",
   "execution_count": null,
   "id": "872930bf",
   "metadata": {},
   "outputs": [],
   "source": []
  },
  {
   "cell_type": "code",
   "execution_count": null,
   "id": "e25885e8",
   "metadata": {},
   "outputs": [],
   "source": []
  },
  {
   "cell_type": "code",
   "execution_count": null,
   "id": "80d4402b",
   "metadata": {},
   "outputs": [],
   "source": []
  },
  {
   "cell_type": "code",
   "execution_count": null,
   "id": "d6372ce1",
   "metadata": {},
   "outputs": [],
   "source": []
  },
  {
   "cell_type": "code",
   "execution_count": null,
   "id": "b93fc147",
   "metadata": {},
   "outputs": [],
   "source": []
  },
  {
   "cell_type": "code",
   "execution_count": null,
   "id": "4ece38cd",
   "metadata": {},
   "outputs": [],
   "source": []
  },
  {
   "cell_type": "code",
   "execution_count": null,
   "id": "0555023e",
   "metadata": {},
   "outputs": [],
   "source": []
  },
  {
   "cell_type": "code",
   "execution_count": null,
   "id": "76e1e7d8",
   "metadata": {},
   "outputs": [],
   "source": []
  },
  {
   "cell_type": "code",
   "execution_count": null,
   "id": "c05d59e7",
   "metadata": {},
   "outputs": [],
   "source": []
  },
  {
   "cell_type": "code",
   "execution_count": null,
   "id": "46db9df7",
   "metadata": {},
   "outputs": [],
   "source": []
  },
  {
   "cell_type": "code",
   "execution_count": null,
   "id": "50dd8f40",
   "metadata": {},
   "outputs": [],
   "source": []
  },
  {
   "cell_type": "code",
   "execution_count": null,
   "id": "857db5fe",
   "metadata": {},
   "outputs": [],
   "source": []
  },
  {
   "cell_type": "code",
   "execution_count": null,
   "id": "285cb959",
   "metadata": {},
   "outputs": [],
   "source": []
  }
 ],
 "metadata": {
  "kernelspec": {
   "display_name": "Python 3 (ipykernel)",
   "language": "python",
   "name": "python3"
  },
  "language_info": {
   "codemirror_mode": {
    "name": "ipython",
    "version": 3
   },
   "file_extension": ".py",
   "mimetype": "text/x-python",
   "name": "python",
   "nbconvert_exporter": "python",
   "pygments_lexer": "ipython3",
   "version": "3.8.0"
  }
 },
 "nbformat": 4,
 "nbformat_minor": 5
}
