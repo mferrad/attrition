{
 "cells": [
  {
   "cell_type": "code",
   "execution_count": 1,
   "id": "9d06151a",
   "metadata": {},
   "outputs": [],
   "source": [
    "import pandas as pd"
   ]
  },
  {
   "cell_type": "code",
   "execution_count": 2,
   "id": "597c0d10",
   "metadata": {},
   "outputs": [],
   "source": [
    "seed=1234"
   ]
  },
  {
   "cell_type": "code",
   "execution_count": 3,
   "id": "1b8b490f",
   "metadata": {},
   "outputs": [],
   "source": [
    "#Abro el archivo con la informacion\n",
    "#Normalizada\n",
    "data = pd.read_csv('attritionDataWithDummyVarsAndNorm.csv')\n",
    "#Sin normalizar\n",
    "#data = pd.read_csv('attritionDataWithDummyVars.csv')"
   ]
  },
  {
   "cell_type": "markdown",
   "id": "999157ab",
   "metadata": {},
   "source": [
    "### Data split"
   ]
  },
  {
   "cell_type": "code",
   "execution_count": 4,
   "id": "64ff9a44",
   "metadata": {},
   "outputs": [],
   "source": [
    "y=data['Dummy_Attrition_Yes']\n",
    "x=data.drop(['Dummy_Attrition_Yes'], axis=1)"
   ]
  },
  {
   "cell_type": "code",
   "execution_count": 5,
   "id": "85caeb33",
   "metadata": {},
   "outputs": [
    {
     "data": {
      "text/html": [
       "<div>\n",
       "<style scoped>\n",
       "    .dataframe tbody tr th:only-of-type {\n",
       "        vertical-align: middle;\n",
       "    }\n",
       "\n",
       "    .dataframe tbody tr th {\n",
       "        vertical-align: top;\n",
       "    }\n",
       "\n",
       "    .dataframe thead th {\n",
       "        text-align: right;\n",
       "    }\n",
       "</style>\n",
       "<table border=\"1\" class=\"dataframe\">\n",
       "  <thead>\n",
       "    <tr style=\"text-align: right;\">\n",
       "      <th></th>\n",
       "      <th>Age</th>\n",
       "      <th>DailyRate</th>\n",
       "      <th>DistanceFromHome</th>\n",
       "      <th>Education</th>\n",
       "      <th>EmployeeNumber</th>\n",
       "      <th>EnvironmentSatisfaction</th>\n",
       "      <th>HourlyRate</th>\n",
       "      <th>JobInvolvement</th>\n",
       "      <th>JobLevel</th>\n",
       "      <th>JobSatisfaction</th>\n",
       "      <th>...</th>\n",
       "      <th>Dummy_JobRole_Research Director</th>\n",
       "      <th>Dummy_JobRole_Research Scientist</th>\n",
       "      <th>Dummy_JobRole_Sales Executive</th>\n",
       "      <th>Dummy_JobRole_Sales Representative</th>\n",
       "      <th>Dummy_MaritalStatus_Divorced</th>\n",
       "      <th>Dummy_MaritalStatus_Married</th>\n",
       "      <th>Dummy_MaritalStatus_Single</th>\n",
       "      <th>Dummy_Over18_Y</th>\n",
       "      <th>Dummy_OverTime_No</th>\n",
       "      <th>Dummy_OverTime_Yes</th>\n",
       "    </tr>\n",
       "  </thead>\n",
       "  <tbody>\n",
       "    <tr>\n",
       "      <th>0</th>\n",
       "      <td>0.45</td>\n",
       "      <td>0.74</td>\n",
       "      <td>-1.01</td>\n",
       "      <td>-0.89</td>\n",
       "      <td>-1.70</td>\n",
       "      <td>-0.66</td>\n",
       "      <td>1.38</td>\n",
       "      <td>0.38</td>\n",
       "      <td>-0.06</td>\n",
       "      <td>1.15</td>\n",
       "      <td>...</td>\n",
       "      <td>0</td>\n",
       "      <td>0</td>\n",
       "      <td>1</td>\n",
       "      <td>0</td>\n",
       "      <td>0</td>\n",
       "      <td>0</td>\n",
       "      <td>1</td>\n",
       "      <td>1</td>\n",
       "      <td>0</td>\n",
       "      <td>1</td>\n",
       "    </tr>\n",
       "    <tr>\n",
       "      <th>1</th>\n",
       "      <td>1.32</td>\n",
       "      <td>-1.30</td>\n",
       "      <td>-0.15</td>\n",
       "      <td>-1.87</td>\n",
       "      <td>-1.70</td>\n",
       "      <td>0.25</td>\n",
       "      <td>-0.24</td>\n",
       "      <td>-1.03</td>\n",
       "      <td>-0.06</td>\n",
       "      <td>-0.66</td>\n",
       "      <td>...</td>\n",
       "      <td>0</td>\n",
       "      <td>1</td>\n",
       "      <td>0</td>\n",
       "      <td>0</td>\n",
       "      <td>0</td>\n",
       "      <td>1</td>\n",
       "      <td>0</td>\n",
       "      <td>1</td>\n",
       "      <td>1</td>\n",
       "      <td>0</td>\n",
       "    </tr>\n",
       "    <tr>\n",
       "      <th>2</th>\n",
       "      <td>0.01</td>\n",
       "      <td>1.41</td>\n",
       "      <td>-0.89</td>\n",
       "      <td>-0.89</td>\n",
       "      <td>-1.70</td>\n",
       "      <td>1.17</td>\n",
       "      <td>1.28</td>\n",
       "      <td>-1.03</td>\n",
       "      <td>-0.96</td>\n",
       "      <td>0.25</td>\n",
       "      <td>...</td>\n",
       "      <td>0</td>\n",
       "      <td>0</td>\n",
       "      <td>0</td>\n",
       "      <td>0</td>\n",
       "      <td>0</td>\n",
       "      <td>0</td>\n",
       "      <td>1</td>\n",
       "      <td>1</td>\n",
       "      <td>0</td>\n",
       "      <td>1</td>\n",
       "    </tr>\n",
       "    <tr>\n",
       "      <th>3</th>\n",
       "      <td>-0.43</td>\n",
       "      <td>1.46</td>\n",
       "      <td>-0.76</td>\n",
       "      <td>1.06</td>\n",
       "      <td>-1.69</td>\n",
       "      <td>1.17</td>\n",
       "      <td>-0.49</td>\n",
       "      <td>0.38</td>\n",
       "      <td>-0.96</td>\n",
       "      <td>0.25</td>\n",
       "      <td>...</td>\n",
       "      <td>0</td>\n",
       "      <td>1</td>\n",
       "      <td>0</td>\n",
       "      <td>0</td>\n",
       "      <td>0</td>\n",
       "      <td>1</td>\n",
       "      <td>0</td>\n",
       "      <td>1</td>\n",
       "      <td>0</td>\n",
       "      <td>1</td>\n",
       "    </tr>\n",
       "    <tr>\n",
       "      <th>4</th>\n",
       "      <td>-1.09</td>\n",
       "      <td>-0.52</td>\n",
       "      <td>-0.89</td>\n",
       "      <td>-1.87</td>\n",
       "      <td>-1.69</td>\n",
       "      <td>-1.58</td>\n",
       "      <td>-1.27</td>\n",
       "      <td>0.38</td>\n",
       "      <td>-0.96</td>\n",
       "      <td>-0.66</td>\n",
       "      <td>...</td>\n",
       "      <td>0</td>\n",
       "      <td>0</td>\n",
       "      <td>0</td>\n",
       "      <td>0</td>\n",
       "      <td>0</td>\n",
       "      <td>1</td>\n",
       "      <td>0</td>\n",
       "      <td>1</td>\n",
       "      <td>1</td>\n",
       "      <td>0</td>\n",
       "    </tr>\n",
       "  </tbody>\n",
       "</table>\n",
       "<p>5 rows × 53 columns</p>\n",
       "</div>"
      ],
      "text/plain": [
       "    Age  DailyRate  DistanceFromHome  Education  EmployeeNumber  \\\n",
       "0  0.45       0.74             -1.01      -0.89           -1.70   \n",
       "1  1.32      -1.30             -0.15      -1.87           -1.70   \n",
       "2  0.01       1.41             -0.89      -0.89           -1.70   \n",
       "3 -0.43       1.46             -0.76       1.06           -1.69   \n",
       "4 -1.09      -0.52             -0.89      -1.87           -1.69   \n",
       "\n",
       "   EnvironmentSatisfaction  HourlyRate  JobInvolvement  JobLevel  \\\n",
       "0                    -0.66        1.38            0.38     -0.06   \n",
       "1                     0.25       -0.24           -1.03     -0.06   \n",
       "2                     1.17        1.28           -1.03     -0.96   \n",
       "3                     1.17       -0.49            0.38     -0.96   \n",
       "4                    -1.58       -1.27            0.38     -0.96   \n",
       "\n",
       "   JobSatisfaction  ...  Dummy_JobRole_Research Director  \\\n",
       "0             1.15  ...                                0   \n",
       "1            -0.66  ...                                0   \n",
       "2             0.25  ...                                0   \n",
       "3             0.25  ...                                0   \n",
       "4            -0.66  ...                                0   \n",
       "\n",
       "   Dummy_JobRole_Research Scientist  Dummy_JobRole_Sales Executive  \\\n",
       "0                                 0                              1   \n",
       "1                                 1                              0   \n",
       "2                                 0                              0   \n",
       "3                                 1                              0   \n",
       "4                                 0                              0   \n",
       "\n",
       "   Dummy_JobRole_Sales Representative  Dummy_MaritalStatus_Divorced  \\\n",
       "0                                   0                             0   \n",
       "1                                   0                             0   \n",
       "2                                   0                             0   \n",
       "3                                   0                             0   \n",
       "4                                   0                             0   \n",
       "\n",
       "   Dummy_MaritalStatus_Married  Dummy_MaritalStatus_Single  Dummy_Over18_Y  \\\n",
       "0                            0                           1               1   \n",
       "1                            1                           0               1   \n",
       "2                            0                           1               1   \n",
       "3                            1                           0               1   \n",
       "4                            1                           0               1   \n",
       "\n",
       "   Dummy_OverTime_No  Dummy_OverTime_Yes  \n",
       "0                  0                   1  \n",
       "1                  1                   0  \n",
       "2                  0                   1  \n",
       "3                  0                   1  \n",
       "4                  1                   0  \n",
       "\n",
       "[5 rows x 53 columns]"
      ]
     },
     "execution_count": 5,
     "metadata": {},
     "output_type": "execute_result"
    }
   ],
   "source": [
    "x.head()"
   ]
  },
  {
   "cell_type": "code",
   "execution_count": 6,
   "id": "68313506",
   "metadata": {},
   "outputs": [],
   "source": [
    "from sklearn.model_selection import train_test_split\n",
    "x_train, x_test, y_train, y_test = train_test_split(x, y, test_size=0.3, stratify=y, random_state=seed )"
   ]
  },
  {
   "cell_type": "code",
   "execution_count": 7,
   "id": "9611aa3d",
   "metadata": {},
   "outputs": [
    {
     "name": "stdout",
     "output_type": "stream",
     "text": [
      "Kernel is linear and metric is 0.8678328474246841\n",
      "Kernel is poly and metric is 0.8435374149659864\n",
      "Kernel is rbf and metric is 0.8503401360544217\n",
      "Kernel is sigmoid and metric is 0.8513119533527697\n"
     ]
    }
   ],
   "source": [
    "from sklearn import svm\n",
    "from sklearn.model_selection import cross_val_score\n",
    "\n",
    "kernel_Options = ['linear', 'poly', 'rbf', 'sigmoid']\n",
    "scores = []\n",
    "bestkernel=''\n",
    "bestMetric=0\n",
    "\n",
    "for k in kernel_Options:\n",
    "    result = cross_val_score(svm.SVC(kernel=k,random_state=seed),x_train, y_train,cv=3,scoring=\"accuracy\").mean()\n",
    "    scores.append(result)\n",
    "    print(\"Kernel is %s and metric is %s\" % (k, result))\n",
    "    if result > bestMetric:\n",
    "        bestMetric=result\n",
    "        bestkernel=k\n",
    "    \n",
    "    \n",
    "#cross_val_score\n",
    "#\n",
    "#‘accuracy’\n",
    "#‘roc_auc’\n",
    "#\"f1_weighted\"\n",
    "# f1\n",
    "#https://scikit-learn.org/stable/modules/model_evaluation.html    "
   ]
  },
  {
   "cell_type": "code",
   "execution_count": 8,
   "id": "99db450a",
   "metadata": {},
   "outputs": [
    {
     "name": "stdout",
     "output_type": "stream",
     "text": [
      "Best Kernel is linear and metric is 0.8678328474246841\n"
     ]
    }
   ],
   "source": [
    "print(\"Best Kernel is %s and metric is %s\" % (bestkernel, bestMetric))"
   ]
  },
  {
   "cell_type": "code",
   "execution_count": 9,
   "id": "1a095d6e",
   "metadata": {},
   "outputs": [],
   "source": [
    "# Uncoment if you want to force\n",
    "\n",
    "#bestkernel='linear'\n",
    "#bestkernel='poly'\n",
    "#bestkernel='rbf'\n",
    "#bestkernel='sigmoid'"
   ]
  },
  {
   "cell_type": "code",
   "execution_count": 10,
   "id": "c2ebd520",
   "metadata": {},
   "outputs": [],
   "source": [
    "from bayes_opt import BayesianOptimization"
   ]
  },
  {
   "cell_type": "code",
   "execution_count": 11,
   "id": "a35744c6",
   "metadata": {},
   "outputs": [],
   "source": [
    "#Defines the function to maximize adding a cross validation feature to prevent overfitting \n",
    "\n",
    "from sklearn.model_selection import cross_val_score\n",
    "\n",
    "def boParams(C, gamma):\n",
    "    \n",
    "    params = {\n",
    "        'C': C,\n",
    "        'gamma': gamma,\n",
    "        'kernel': bestkernel\n",
    "    }\n",
    "  \n",
    "\n",
    "    result = cross_val_score(svm.SVC(random_state=seed, **params),\n",
    "                             x_train, y_train,cv=3,scoring=\"f1_weighted\").mean()\n",
    "    \n",
    "    #cv_result = xgb.cv(params, train_dmatrix, nfold=5)\n",
    "    return result.mean()\n",
    "\n",
    "\n",
    "#cross_val_score\n",
    "#\n",
    "#‘accuracy’\n",
    "#‘roc_auc’\n",
    "#\"f1_weighted\"\n",
    "# f1\n",
    "#https://scikit-learn.org/stable/modules/model_evaluation.html\n"
   ]
  },
  {
   "cell_type": "code",
   "execution_count": 12,
   "id": "9dd75beb",
   "metadata": {},
   "outputs": [],
   "source": [
    "# Sets the limits for the iteration of the different parameters\n",
    "\n",
    "bo = BayesianOptimization(boParams, {'C': (0.01, 10),\n",
    "                                             'gamma': (0.01, 10)\n",
    "                                             },random_state=seed)"
   ]
  },
  {
   "cell_type": "code",
   "execution_count": 13,
   "id": "69a74274",
   "metadata": {},
   "outputs": [
    {
     "name": "stdout",
     "output_type": "stream",
     "text": [
      "|   iter    |  target   |     C     |   gamma   |\n",
      "-------------------------------------------------\n",
      "| \u001b[0m1        \u001b[0m | \u001b[0m0.8499   \u001b[0m | \u001b[0m1.923    \u001b[0m | \u001b[0m6.225    \u001b[0m |\n",
      "| \u001b[0m2        \u001b[0m | \u001b[0m0.8485   \u001b[0m | \u001b[0m4.383    \u001b[0m | \u001b[0m7.856    \u001b[0m |\n",
      "| \u001b[0m3        \u001b[0m | \u001b[0m0.8496   \u001b[0m | \u001b[0m7.802    \u001b[0m | \u001b[0m2.733    \u001b[0m |\n",
      "| \u001b[95m4        \u001b[0m | \u001b[95m0.8507   \u001b[0m | \u001b[95m2.772    \u001b[0m | \u001b[95m8.021    \u001b[0m |\n",
      "| \u001b[95m5        \u001b[0m | \u001b[95m0.851    \u001b[0m | \u001b[95m9.582    \u001b[0m | \u001b[95m8.761    \u001b[0m |\n",
      "| \u001b[0m6        \u001b[0m | \u001b[0m0.8485   \u001b[0m | \u001b[0m3.585    \u001b[0m | \u001b[0m5.015    \u001b[0m |\n",
      "| \u001b[0m7        \u001b[0m | \u001b[0m0.8496   \u001b[0m | \u001b[0m6.838    \u001b[0m | \u001b[0m7.13     \u001b[0m |\n",
      "| \u001b[0m8        \u001b[0m | \u001b[0m0.8477   \u001b[0m | \u001b[0m3.709    \u001b[0m | \u001b[0m5.616    \u001b[0m |\n",
      "| \u001b[0m9        \u001b[0m | \u001b[0m0.8477   \u001b[0m | \u001b[0m5.036    \u001b[0m | \u001b[0m0.1475   \u001b[0m |\n",
      "| \u001b[0m10       \u001b[0m | \u001b[0m0.8496   \u001b[0m | \u001b[0m7.731    \u001b[0m | \u001b[0m8.828    \u001b[0m |\n",
      "| \u001b[0m11       \u001b[0m | \u001b[0m0.8485   \u001b[0m | \u001b[0m3.655    \u001b[0m | \u001b[0m6.158    \u001b[0m |\n",
      "| \u001b[0m12       \u001b[0m | \u001b[0m0.8498   \u001b[0m | \u001b[0m0.7631   \u001b[0m | \u001b[0m3.695    \u001b[0m |\n",
      "| \u001b[0m13       \u001b[0m | \u001b[0m0.851    \u001b[0m | \u001b[0m9.332    \u001b[0m | \u001b[0m6.517    \u001b[0m |\n",
      "| \u001b[0m14       \u001b[0m | \u001b[0m0.8485   \u001b[0m | \u001b[0m3.978    \u001b[0m | \u001b[0m7.889    \u001b[0m |\n",
      "| \u001b[0m15       \u001b[0m | \u001b[0m0.8492   \u001b[0m | \u001b[0m3.175    \u001b[0m | \u001b[0m5.685    \u001b[0m |\n",
      "| \u001b[0m16       \u001b[0m | \u001b[0m0.8502   \u001b[0m | \u001b[0m8.693    \u001b[0m | \u001b[0m4.367    \u001b[0m |\n",
      "| \u001b[0m17       \u001b[0m | \u001b[0m0.851    \u001b[0m | \u001b[0m9.443    \u001b[0m | \u001b[0m7.651    \u001b[0m |\n",
      "| \u001b[0m18       \u001b[0m | \u001b[0m0.8502   \u001b[0m | \u001b[0m8.537    \u001b[0m | \u001b[0m7.092    \u001b[0m |\n",
      "| \u001b[0m19       \u001b[0m | \u001b[0m0.851    \u001b[0m | \u001b[0m10.0     \u001b[0m | \u001b[0m6.98     \u001b[0m |\n",
      "| \u001b[0m20       \u001b[0m | \u001b[0m0.8499   \u001b[0m | \u001b[0m1.668    \u001b[0m | \u001b[0m8.404    \u001b[0m |\n",
      "| \u001b[0m21       \u001b[0m | \u001b[0m0.8502   \u001b[0m | \u001b[0m9.964    \u001b[0m | \u001b[0m5.658    \u001b[0m |\n",
      "| \u001b[0m22       \u001b[0m | \u001b[0m0.8502   \u001b[0m | \u001b[0m9.806    \u001b[0m | \u001b[0m9.972    \u001b[0m |\n",
      "| \u001b[0m23       \u001b[0m | \u001b[0m0.851    \u001b[0m | \u001b[0m10.0     \u001b[0m | \u001b[0m8.13     \u001b[0m |\n",
      "| \u001b[0m24       \u001b[0m | \u001b[0m0.8507   \u001b[0m | \u001b[0m2.724    \u001b[0m | \u001b[0m9.909    \u001b[0m |\n",
      "| \u001b[0m25       \u001b[0m | \u001b[0m0.8507   \u001b[0m | \u001b[0m1.421    \u001b[0m | \u001b[0m9.994    \u001b[0m |\n",
      "| \u001b[0m26       \u001b[0m | \u001b[0m0.7651   \u001b[0m | \u001b[0m0.01     \u001b[0m | \u001b[0m10.0     \u001b[0m |\n",
      "| \u001b[0m27       \u001b[0m | \u001b[0m0.8499   \u001b[0m | \u001b[0m1.786    \u001b[0m | \u001b[0m1.032    \u001b[0m |\n",
      "| \u001b[0m28       \u001b[0m | \u001b[0m0.851    \u001b[0m | \u001b[0m10.0     \u001b[0m | \u001b[0m1.126    \u001b[0m |\n",
      "| \u001b[95m29       \u001b[0m | \u001b[95m0.851    \u001b[0m | \u001b[95m7.908    \u001b[0m | \u001b[95m0.01     \u001b[0m |\n",
      "| \u001b[0m30       \u001b[0m | \u001b[0m0.8477   \u001b[0m | \u001b[0m3.775    \u001b[0m | \u001b[0m2.458    \u001b[0m |\n",
      "| \u001b[0m31       \u001b[0m | \u001b[0m0.8491   \u001b[0m | \u001b[0m6.325    \u001b[0m | \u001b[0m4.606    \u001b[0m |\n",
      "| \u001b[0m32       \u001b[0m | \u001b[0m0.8322   \u001b[0m | \u001b[0m0.07126  \u001b[0m | \u001b[0m0.01066  \u001b[0m |\n",
      "| \u001b[0m33       \u001b[0m | \u001b[0m0.851    \u001b[0m | \u001b[0m10.0     \u001b[0m | \u001b[0m3.046    \u001b[0m |\n",
      "| \u001b[0m34       \u001b[0m | \u001b[0m0.8491   \u001b[0m | \u001b[0m5.809    \u001b[0m | \u001b[0m10.0     \u001b[0m |\n",
      "| \u001b[0m35       \u001b[0m | \u001b[0m0.7651   \u001b[0m | \u001b[0m0.01     \u001b[0m | \u001b[0m5.566    \u001b[0m |\n",
      "| \u001b[0m36       \u001b[0m | \u001b[0m0.8499   \u001b[0m | \u001b[0m1.946    \u001b[0m | \u001b[0m2.864    \u001b[0m |\n",
      "| \u001b[0m37       \u001b[0m | \u001b[0m0.8491   \u001b[0m | \u001b[0m5.926    \u001b[0m | \u001b[0m2.104    \u001b[0m |\n",
      "| \u001b[0m38       \u001b[0m | \u001b[0m0.7828   \u001b[0m | \u001b[0m0.03397  \u001b[0m | \u001b[0m2.256    \u001b[0m |\n",
      "| \u001b[0m39       \u001b[0m | \u001b[0m0.8492   \u001b[0m | \u001b[0m3.045    \u001b[0m | \u001b[0m0.01     \u001b[0m |\n",
      "| \u001b[0m40       \u001b[0m | \u001b[0m0.8507   \u001b[0m | \u001b[0m2.16     \u001b[0m | \u001b[0m4.291    \u001b[0m |\n",
      "| \u001b[0m41       \u001b[0m | \u001b[0m0.851    \u001b[0m | \u001b[0m8.515    \u001b[0m | \u001b[0m1.411    \u001b[0m |\n",
      "| \u001b[0m42       \u001b[0m | \u001b[0m0.8477   \u001b[0m | \u001b[0m4.971    \u001b[0m | \u001b[0m3.715    \u001b[0m |\n",
      "| \u001b[0m43       \u001b[0m | \u001b[0m0.8496   \u001b[0m | \u001b[0m7.626    \u001b[0m | \u001b[0m5.631    \u001b[0m |\n",
      "| \u001b[0m44       \u001b[0m | \u001b[0m0.8477   \u001b[0m | \u001b[0m5.529    \u001b[0m | \u001b[0m6.118    \u001b[0m |\n",
      "| \u001b[0m45       \u001b[0m | \u001b[0m0.8496   \u001b[0m | \u001b[0m6.664    \u001b[0m | \u001b[0m0.6952   \u001b[0m |\n",
      "| \u001b[0m46       \u001b[0m | \u001b[0m0.851    \u001b[0m | \u001b[0m9.566    \u001b[0m | \u001b[0m0.01     \u001b[0m |\n",
      "| \u001b[0m47       \u001b[0m | \u001b[0m0.851    \u001b[0m | \u001b[0m8.141    \u001b[0m | \u001b[0m10.0     \u001b[0m |\n",
      "| \u001b[0m48       \u001b[0m | \u001b[0m0.8483   \u001b[0m | \u001b[0m6.036    \u001b[0m | \u001b[0m8.508    \u001b[0m |\n",
      "| \u001b[0m49       \u001b[0m | \u001b[0m0.8485   \u001b[0m | \u001b[0m4.378    \u001b[0m | \u001b[0m9.946    \u001b[0m |\n",
      "| \u001b[0m50       \u001b[0m | \u001b[0m0.8507   \u001b[0m | \u001b[0m3.036    \u001b[0m | \u001b[0m1.325    \u001b[0m |\n",
      "| \u001b[0m51       \u001b[0m | \u001b[0m0.851    \u001b[0m | \u001b[0m10.0     \u001b[0m | \u001b[0m4.307    \u001b[0m |\n",
      "| \u001b[0m52       \u001b[0m | \u001b[0m0.8504   \u001b[0m | \u001b[0m6.654    \u001b[0m | \u001b[0m3.331    \u001b[0m |\n",
      "| \u001b[0m53       \u001b[0m | \u001b[0m0.8499   \u001b[0m | \u001b[0m1.865    \u001b[0m | \u001b[0m0.01791  \u001b[0m |\n",
      "| \u001b[0m54       \u001b[0m | \u001b[0m0.8485   \u001b[0m | \u001b[0m4.629    \u001b[0m | \u001b[0m1.39     \u001b[0m |\n",
      "| \u001b[0m55       \u001b[0m | \u001b[0m0.8507   \u001b[0m | \u001b[0m2.508    \u001b[0m | \u001b[0m6.944    \u001b[0m |\n",
      "| \u001b[0m56       \u001b[0m | \u001b[0m0.8507   \u001b[0m | \u001b[0m2.091    \u001b[0m | \u001b[0m9.306    \u001b[0m |\n",
      "| \u001b[0m57       \u001b[0m | \u001b[0m0.8504   \u001b[0m | \u001b[0m6.93     \u001b[0m | \u001b[0m9.983    \u001b[0m |\n",
      "| \u001b[0m58       \u001b[0m | \u001b[0m0.8502   \u001b[0m | \u001b[0m9.04     \u001b[0m | \u001b[0m2.598    \u001b[0m |\n",
      "| \u001b[0m59       \u001b[0m | \u001b[0m0.8492   \u001b[0m | \u001b[0m3.186    \u001b[0m | \u001b[0m3.584    \u001b[0m |\n",
      "| \u001b[0m60       \u001b[0m | \u001b[0m0.8496   \u001b[0m | \u001b[0m7.523    \u001b[0m | \u001b[0m4.185    \u001b[0m |\n",
      "| \u001b[0m61       \u001b[0m | \u001b[0m0.8504   \u001b[0m | \u001b[0m7.24     \u001b[0m | \u001b[0m1.669    \u001b[0m |\n",
      "| \u001b[0m62       \u001b[0m | \u001b[0m0.8493   \u001b[0m | \u001b[0m1.509    \u001b[0m | \u001b[0m3.697    \u001b[0m |\n",
      "| \u001b[0m63       \u001b[0m | \u001b[0m0.8477   \u001b[0m | \u001b[0m5.008    \u001b[0m | \u001b[0m4.956    \u001b[0m |\n",
      "| \u001b[0m64       \u001b[0m | \u001b[0m0.8477   \u001b[0m | \u001b[0m4.73     \u001b[0m | \u001b[0m8.924    \u001b[0m |\n",
      "| \u001b[0m65       \u001b[0m | \u001b[0m0.8488   \u001b[0m | \u001b[0m8.768    \u001b[0m | \u001b[0m5.463    \u001b[0m |\n",
      "| \u001b[0m66       \u001b[0m | \u001b[0m0.8491   \u001b[0m | \u001b[0m5.62     \u001b[0m | \u001b[0m7.325    \u001b[0m |\n",
      "| \u001b[0m67       \u001b[0m | \u001b[0m0.8507   \u001b[0m | \u001b[0m2.614    \u001b[0m | \u001b[0m2.209    \u001b[0m |\n",
      "| \u001b[0m68       \u001b[0m | \u001b[0m0.8491   \u001b[0m | \u001b[0m6.211    \u001b[0m | \u001b[0m0.01     \u001b[0m |\n",
      "| \u001b[0m69       \u001b[0m | \u001b[0m0.8499   \u001b[0m | \u001b[0m2.008    \u001b[0m | \u001b[0m10.0     \u001b[0m |\n",
      "| \u001b[0m70       \u001b[0m | \u001b[0m0.8485   \u001b[0m | \u001b[0m3.493    \u001b[0m | \u001b[0m9.11     \u001b[0m |\n",
      "| \u001b[0m71       \u001b[0m | \u001b[0m0.851    \u001b[0m | \u001b[0m9.989    \u001b[0m | \u001b[0m2.117    \u001b[0m |\n",
      "| \u001b[95m72       \u001b[0m | \u001b[95m0.8512   \u001b[0m | \u001b[95m6.607    \u001b[0m | \u001b[95m6.032    \u001b[0m |\n",
      "| \u001b[0m73       \u001b[0m | \u001b[0m0.851    \u001b[0m | \u001b[0m8.831    \u001b[0m | \u001b[0m0.4663   \u001b[0m |\n",
      "| \u001b[0m74       \u001b[0m | \u001b[0m0.851    \u001b[0m | \u001b[0m8.761    \u001b[0m | \u001b[0m9.279    \u001b[0m |\n",
      "| \u001b[0m75       \u001b[0m | \u001b[0m0.8502   \u001b[0m | \u001b[0m8.37     \u001b[0m | \u001b[0m8.135    \u001b[0m |\n",
      "| \u001b[0m76       \u001b[0m | \u001b[0m0.8507   \u001b[0m | \u001b[0m2.274    \u001b[0m | \u001b[0m5.288    \u001b[0m |\n",
      "| \u001b[0m77       \u001b[0m | \u001b[0m0.8477   \u001b[0m | \u001b[0m4.951    \u001b[0m | \u001b[0m2.57     \u001b[0m |\n",
      "| \u001b[0m78       \u001b[0m | \u001b[0m0.8485   \u001b[0m | \u001b[0m4.038    \u001b[0m | \u001b[0m0.01     \u001b[0m |\n",
      "| \u001b[0m79       \u001b[0m | \u001b[0m0.851    \u001b[0m | \u001b[0m9.036    \u001b[0m | \u001b[0m3.537    \u001b[0m |\n",
      "| \u001b[0m80       \u001b[0m | \u001b[0m0.8507   \u001b[0m | \u001b[0m2.431    \u001b[0m | \u001b[0m0.7078   \u001b[0m |\n",
      "| \u001b[0m81       \u001b[0m | \u001b[0m0.8496   \u001b[0m | \u001b[0m7.643    \u001b[0m | \u001b[0m6.576    \u001b[0m |\n",
      "| \u001b[0m82       \u001b[0m | \u001b[0m0.8485   \u001b[0m | \u001b[0m4.565    \u001b[0m | \u001b[0m6.795    \u001b[0m |\n",
      "| \u001b[0m83       \u001b[0m | \u001b[0m0.8496   \u001b[0m | \u001b[0m7.789    \u001b[0m | \u001b[0m0.8837   \u001b[0m |\n",
      "| \u001b[0m84       \u001b[0m | \u001b[0m0.8491   \u001b[0m | \u001b[0m5.712    \u001b[0m | \u001b[0m1.057    \u001b[0m |\n",
      "| \u001b[0m85       \u001b[0m | \u001b[0m0.8499   \u001b[0m | \u001b[0m1.801    \u001b[0m | \u001b[0m7.434    \u001b[0m |\n",
      "| \u001b[0m86       \u001b[0m | \u001b[0m0.8496   \u001b[0m | \u001b[0m7.192    \u001b[0m | \u001b[0m8.03     \u001b[0m |\n",
      "| \u001b[0m87       \u001b[0m | \u001b[0m0.851    \u001b[0m | \u001b[0m9.327    \u001b[0m | \u001b[0m1.501    \u001b[0m |\n",
      "| \u001b[0m88       \u001b[0m | \u001b[0m0.8485   \u001b[0m | \u001b[0m3.503    \u001b[0m | \u001b[0m10.0     \u001b[0m |\n",
      "| \u001b[0m89       \u001b[0m | \u001b[0m0.8496   \u001b[0m | \u001b[0m6.706    \u001b[0m | \u001b[0m9.191    \u001b[0m |\n",
      "| \u001b[0m90       \u001b[0m | \u001b[0m0.851    \u001b[0m | \u001b[0m9.044    \u001b[0m | \u001b[0m9.968    \u001b[0m |\n",
      "| \u001b[0m91       \u001b[0m | \u001b[0m0.8491   \u001b[0m | \u001b[0m5.811    \u001b[0m | \u001b[0m3.284    \u001b[0m |\n",
      "| \u001b[0m92       \u001b[0m | \u001b[0m0.8496   \u001b[0m | \u001b[0m7.11     \u001b[0m | \u001b[0m0.01     \u001b[0m |\n",
      "| \u001b[0m93       \u001b[0m | \u001b[0m0.8496   \u001b[0m | \u001b[0m6.817    \u001b[0m | \u001b[0m2.476    \u001b[0m |\n",
      "| \u001b[0m94       \u001b[0m | \u001b[0m0.851    \u001b[0m | \u001b[0m9.986    \u001b[0m | \u001b[0m9.278    \u001b[0m |\n",
      "| \u001b[0m95       \u001b[0m | \u001b[0m0.8477   \u001b[0m | \u001b[0m3.778    \u001b[0m | \u001b[0m0.8141   \u001b[0m |\n",
      "| \u001b[0m96       \u001b[0m | \u001b[0m0.8507   \u001b[0m | \u001b[0m2.883    \u001b[0m | \u001b[0m4.535    \u001b[0m |\n",
      "| \u001b[0m97       \u001b[0m | \u001b[0m0.8496   \u001b[0m | \u001b[0m8.173    \u001b[0m | \u001b[0m3.559    \u001b[0m |\n",
      "| \u001b[0m98       \u001b[0m | \u001b[0m0.851    \u001b[0m | \u001b[0m10.0     \u001b[0m | \u001b[0m0.01     \u001b[0m |\n",
      "| \u001b[0m99       \u001b[0m | \u001b[0m0.8507   \u001b[0m | \u001b[0m2.225    \u001b[0m | \u001b[0m1.6      \u001b[0m |\n"
     ]
    },
    {
     "name": "stdout",
     "output_type": "stream",
     "text": [
      "| \u001b[0m100      \u001b[0m | \u001b[0m0.8507   \u001b[0m | \u001b[0m2.497    \u001b[0m | \u001b[0m6.153    \u001b[0m |\n",
      "| \u001b[0m101      \u001b[0m | \u001b[0m0.851    \u001b[0m | \u001b[0m9.476    \u001b[0m | \u001b[0m4.855    \u001b[0m |\n",
      "| \u001b[0m102      \u001b[0m | \u001b[0m0.8504   \u001b[0m | \u001b[0m6.96     \u001b[0m | \u001b[0m5.156    \u001b[0m |\n",
      "| \u001b[0m103      \u001b[0m | \u001b[0m0.8507   \u001b[0m | \u001b[0m2.502    \u001b[0m | \u001b[0m3.266    \u001b[0m |\n",
      "| \u001b[0m104      \u001b[0m | \u001b[0m0.8507   \u001b[0m | \u001b[0m2.35     \u001b[0m | \u001b[0m8.574    \u001b[0m |\n",
      "| \u001b[0m105      \u001b[0m | \u001b[0m0.8485   \u001b[0m | \u001b[0m4.043    \u001b[0m | \u001b[0m4.073    \u001b[0m |\n",
      "| \u001b[0m106      \u001b[0m | \u001b[0m0.8485   \u001b[0m | \u001b[0m3.463    \u001b[0m | \u001b[0m7.129    \u001b[0m |\n",
      "| \u001b[0m107      \u001b[0m | \u001b[0m0.8483   \u001b[0m | \u001b[0m6.074    \u001b[0m | \u001b[0m5.409    \u001b[0m |\n",
      "| \u001b[0m108      \u001b[0m | \u001b[0m0.851    \u001b[0m | \u001b[0m8.16     \u001b[0m | \u001b[0m2.035    \u001b[0m |\n",
      "| \u001b[0m109      \u001b[0m | \u001b[0m0.851    \u001b[0m | \u001b[0m7.773    \u001b[0m | \u001b[0m7.479    \u001b[0m |\n",
      "| \u001b[0m110      \u001b[0m | \u001b[0m0.851    \u001b[0m | \u001b[0m9.578    \u001b[0m | \u001b[0m3.897    \u001b[0m |\n",
      "| \u001b[0m111      \u001b[0m | \u001b[0m0.8502   \u001b[0m | \u001b[0m8.564    \u001b[0m | \u001b[0m0.02928  \u001b[0m |\n",
      "| \u001b[0m112      \u001b[0m | \u001b[0m0.8507   \u001b[0m | \u001b[0m2.151    \u001b[0m | \u001b[0m7.891    \u001b[0m |\n",
      "| \u001b[0m113      \u001b[0m | \u001b[0m0.8502   \u001b[0m | \u001b[0m9.616    \u001b[0m | \u001b[0m0.6694   \u001b[0m |\n",
      "| \u001b[0m114      \u001b[0m | \u001b[0m0.8491   \u001b[0m | \u001b[0m5.588    \u001b[0m | \u001b[0m9.255    \u001b[0m |\n",
      "| \u001b[0m115      \u001b[0m | \u001b[0m0.8496   \u001b[0m | \u001b[0m7.54     \u001b[0m | \u001b[0m9.604    \u001b[0m |\n",
      "| \u001b[0m116      \u001b[0m | \u001b[0m0.8493   \u001b[0m | \u001b[0m1.569    \u001b[0m | \u001b[0m9.439    \u001b[0m |\n",
      "| \u001b[0m117      \u001b[0m | \u001b[0m0.8496   \u001b[0m | \u001b[0m6.562    \u001b[0m | \u001b[0m1.484    \u001b[0m |\n",
      "| \u001b[0m118      \u001b[0m | \u001b[0m0.8491   \u001b[0m | \u001b[0m6.185    \u001b[0m | \u001b[0m6.663    \u001b[0m |\n",
      "| \u001b[95m119      \u001b[0m | \u001b[95m0.8518   \u001b[0m | \u001b[95m8.014    \u001b[0m | \u001b[95m4.84     \u001b[0m |\n",
      "| \u001b[0m120      \u001b[0m | \u001b[0m0.851    \u001b[0m | \u001b[0m10.0     \u001b[0m | \u001b[0m6.339    \u001b[0m |\n",
      "| \u001b[0m121      \u001b[0m | \u001b[0m0.8491   \u001b[0m | \u001b[0m5.818    \u001b[0m | \u001b[0m4.042    \u001b[0m |\n",
      "| \u001b[0m122      \u001b[0m | \u001b[0m0.8507   \u001b[0m | \u001b[0m2.817    \u001b[0m | \u001b[0m9.266    \u001b[0m |\n",
      "| \u001b[0m123      \u001b[0m | \u001b[0m0.851    \u001b[0m | \u001b[0m9.404    \u001b[0m | \u001b[0m9.368    \u001b[0m |\n",
      "| \u001b[0m124      \u001b[0m | \u001b[0m0.8477   \u001b[0m | \u001b[0m5.053    \u001b[0m | \u001b[0m9.991    \u001b[0m |\n",
      "| \u001b[0m125      \u001b[0m | \u001b[0m0.8477   \u001b[0m | \u001b[0m5.266    \u001b[0m | \u001b[0m8.121    \u001b[0m |\n",
      "| \u001b[0m126      \u001b[0m | \u001b[0m0.851    \u001b[0m | \u001b[0m9.096    \u001b[0m | \u001b[0m8.307    \u001b[0m |\n",
      "| \u001b[0m127      \u001b[0m | \u001b[0m0.8485   \u001b[0m | \u001b[0m3.594    \u001b[0m | \u001b[0m1.707    \u001b[0m |\n",
      "| \u001b[0m128      \u001b[0m | \u001b[0m0.851    \u001b[0m | \u001b[0m9.998    \u001b[0m | \u001b[0m4.905    \u001b[0m |\n",
      "| \u001b[0m129      \u001b[0m | \u001b[0m0.8507   \u001b[0m | \u001b[0m2.082    \u001b[0m | \u001b[0m6.76     \u001b[0m |\n",
      "| \u001b[0m130      \u001b[0m | \u001b[0m0.851    \u001b[0m | \u001b[0m8.524    \u001b[0m | \u001b[0m6.324    \u001b[0m |\n",
      "| \u001b[0m131      \u001b[0m | \u001b[0m0.8505   \u001b[0m | \u001b[0m1.113    \u001b[0m | \u001b[0m4.051    \u001b[0m |\n",
      "| \u001b[0m132      \u001b[0m | \u001b[0m0.8507   \u001b[0m | \u001b[0m2.931    \u001b[0m | \u001b[0m2.807    \u001b[0m |\n",
      "| \u001b[0m133      \u001b[0m | \u001b[0m0.8496   \u001b[0m | \u001b[0m6.686    \u001b[0m | \u001b[0m3.999    \u001b[0m |\n",
      "| \u001b[0m134      \u001b[0m | \u001b[0m0.851    \u001b[0m | \u001b[0m9.466    \u001b[0m | \u001b[0m3.103    \u001b[0m |\n",
      "| \u001b[0m135      \u001b[0m | \u001b[0m0.851    \u001b[0m | \u001b[0m10.0     \u001b[0m | \u001b[0m3.62     \u001b[0m |\n",
      "| \u001b[0m136      \u001b[0m | \u001b[0m0.851    \u001b[0m | \u001b[0m8.891    \u001b[0m | \u001b[0m1.926    \u001b[0m |\n",
      "| \u001b[95m137      \u001b[0m | \u001b[95m0.8528   \u001b[0m | \u001b[95m1.255    \u001b[0m | \u001b[95m0.01345  \u001b[0m |\n",
      "| \u001b[0m138      \u001b[0m | \u001b[0m0.8493   \u001b[0m | \u001b[0m1.497    \u001b[0m | \u001b[0m0.3769   \u001b[0m |\n",
      "| \u001b[0m139      \u001b[0m | \u001b[0m0.8496   \u001b[0m | \u001b[0m7.504    \u001b[0m | \u001b[0m4.859    \u001b[0m |\n",
      "| \u001b[0m140      \u001b[0m | \u001b[0m0.8496   \u001b[0m | \u001b[0m7.322    \u001b[0m | \u001b[0m3.364    \u001b[0m |\n",
      "| \u001b[0m141      \u001b[0m | \u001b[0m0.8507   \u001b[0m | \u001b[0m2.395    \u001b[0m | \u001b[0m1.18     \u001b[0m |\n",
      "| \u001b[0m142      \u001b[0m | \u001b[0m0.8477   \u001b[0m | \u001b[0m5.251    \u001b[0m | \u001b[0m1.745    \u001b[0m |\n",
      "| \u001b[0m143      \u001b[0m | \u001b[0m0.8491   \u001b[0m | \u001b[0m6.375    \u001b[0m | \u001b[0m7.704    \u001b[0m |\n",
      "| \u001b[0m144      \u001b[0m | \u001b[0m0.8485   \u001b[0m | \u001b[0m4.117    \u001b[0m | \u001b[0m3.261    \u001b[0m |\n",
      "| \u001b[0m145      \u001b[0m | \u001b[0m0.8477   \u001b[0m | \u001b[0m4.63     \u001b[0m | \u001b[0m5.875    \u001b[0m |\n",
      "| \u001b[0m146      \u001b[0m | \u001b[0m0.8507   \u001b[0m | \u001b[0m2.701    \u001b[0m | \u001b[0m5.038    \u001b[0m |\n",
      "| \u001b[0m147      \u001b[0m | \u001b[0m0.8496   \u001b[0m | \u001b[0m7.08     \u001b[0m | \u001b[0m6.049    \u001b[0m |\n",
      "| \u001b[0m148      \u001b[0m | \u001b[0m0.8491   \u001b[0m | \u001b[0m6.392    \u001b[0m | \u001b[0m9.677    \u001b[0m |\n",
      "| \u001b[0m149      \u001b[0m | \u001b[0m0.851    \u001b[0m | \u001b[0m9.987    \u001b[0m | \u001b[0m7.62     \u001b[0m |\n",
      "| \u001b[0m150      \u001b[0m | \u001b[0m0.8507   \u001b[0m | \u001b[0m2.388    \u001b[0m | \u001b[0m2.678    \u001b[0m |\n",
      "| \u001b[0m151      \u001b[0m | \u001b[0m0.851    \u001b[0m | \u001b[0m8.559    \u001b[0m | \u001b[0m8.741    \u001b[0m |\n",
      "| \u001b[0m152      \u001b[0m | \u001b[0m0.8502   \u001b[0m | \u001b[0m9.486    \u001b[0m | \u001b[0m2.168    \u001b[0m |\n",
      "| \u001b[0m153      \u001b[0m | \u001b[0m0.851    \u001b[0m | \u001b[0m9.997    \u001b[0m | \u001b[0m1.629    \u001b[0m |\n",
      "| \u001b[0m154      \u001b[0m | \u001b[0m0.8492   \u001b[0m | \u001b[0m3.101    \u001b[0m | \u001b[0m8.529    \u001b[0m |\n",
      "| \u001b[0m155      \u001b[0m | \u001b[0m0.851    \u001b[0m | \u001b[0m9.37     \u001b[0m | \u001b[0m7.029    \u001b[0m |\n",
      "| \u001b[0m156      \u001b[0m | \u001b[0m0.851    \u001b[0m | \u001b[0m8.93     \u001b[0m | \u001b[0m0.9929   \u001b[0m |\n",
      "| \u001b[0m157      \u001b[0m | \u001b[0m0.8502   \u001b[0m | \u001b[0m8.487    \u001b[0m | \u001b[0m2.89     \u001b[0m |\n",
      "| \u001b[0m158      \u001b[0m | \u001b[0m0.8518   \u001b[0m | \u001b[0m8.102    \u001b[0m | \u001b[0m4.363    \u001b[0m |\n",
      "| \u001b[0m159      \u001b[0m | \u001b[0m0.8518   \u001b[0m | \u001b[0m8.317    \u001b[0m | \u001b[0m0.5806   \u001b[0m |\n",
      "| \u001b[0m160      \u001b[0m | \u001b[0m0.851    \u001b[0m | \u001b[0m8.236    \u001b[0m | \u001b[0m9.426    \u001b[0m |\n",
      "| \u001b[0m161      \u001b[0m | \u001b[0m0.8499   \u001b[0m | \u001b[0m2.113    \u001b[0m | \u001b[0m4.799    \u001b[0m |\n",
      "| \u001b[0m162      \u001b[0m | \u001b[0m0.8492   \u001b[0m | \u001b[0m3.048    \u001b[0m | \u001b[0m0.6683   \u001b[0m |\n",
      "| \u001b[0m163      \u001b[0m | \u001b[0m0.8507   \u001b[0m | \u001b[0m2.509    \u001b[0m | \u001b[0m7.463    \u001b[0m |\n",
      "| \u001b[0m164      \u001b[0m | \u001b[0m0.8496   \u001b[0m | \u001b[0m7.523    \u001b[0m | \u001b[0m2.184    \u001b[0m |\n",
      "| \u001b[0m165      \u001b[0m | \u001b[0m0.8507   \u001b[0m | \u001b[0m2.615    \u001b[0m | \u001b[0m3.982    \u001b[0m |\n",
      "| \u001b[0m166      \u001b[0m | \u001b[0m0.851    \u001b[0m | \u001b[0m10.0     \u001b[0m | \u001b[0m8.729    \u001b[0m |\n",
      "| \u001b[0m167      \u001b[0m | \u001b[0m0.851    \u001b[0m | \u001b[0m9.445    \u001b[0m | \u001b[0m5.872    \u001b[0m |\n",
      "| \u001b[0m168      \u001b[0m | \u001b[0m0.8491   \u001b[0m | \u001b[0m6.202    \u001b[0m | \u001b[0m2.673    \u001b[0m |\n",
      "| \u001b[0m169      \u001b[0m | \u001b[0m0.8496   \u001b[0m | \u001b[0m6.692    \u001b[0m | \u001b[0m5.592    \u001b[0m |\n",
      "| \u001b[0m170      \u001b[0m | \u001b[0m0.8507   \u001b[0m | \u001b[0m1.429    \u001b[0m | \u001b[0m0.01385  \u001b[0m |\n",
      "| \u001b[0m171      \u001b[0m | \u001b[0m0.8476   \u001b[0m | \u001b[0m0.8592   \u001b[0m | \u001b[0m0.0485   \u001b[0m |\n",
      "| \u001b[0m172      \u001b[0m | \u001b[0m0.8507   \u001b[0m | \u001b[0m2.394    \u001b[0m | \u001b[0m0.03742  \u001b[0m |\n",
      "| \u001b[0m173      \u001b[0m | \u001b[0m0.8485   \u001b[0m | \u001b[0m4.807    \u001b[0m | \u001b[0m0.7795   \u001b[0m |\n",
      "| \u001b[0m174      \u001b[0m | \u001b[0m0.851    \u001b[0m | \u001b[0m8.814    \u001b[0m | \u001b[0m7.673    \u001b[0m |\n",
      "| \u001b[0m175      \u001b[0m | \u001b[0m0.8518   \u001b[0m | \u001b[0m8.175    \u001b[0m | \u001b[0m5.9      \u001b[0m |\n",
      "| \u001b[0m176      \u001b[0m | \u001b[0m0.8504   \u001b[0m | \u001b[0m6.875    \u001b[0m | \u001b[0m8.565    \u001b[0m |\n",
      "| \u001b[0m177      \u001b[0m | \u001b[0m0.851    \u001b[0m | \u001b[0m8.126    \u001b[0m | \u001b[0m5.379    \u001b[0m |\n",
      "| \u001b[0m178      \u001b[0m | \u001b[0m0.851    \u001b[0m | \u001b[0m7.551    \u001b[0m | \u001b[0m10.0     \u001b[0m |\n",
      "| \u001b[0m179      \u001b[0m | \u001b[0m0.8502   \u001b[0m | \u001b[0m9.999    \u001b[0m | \u001b[0m0.4738   \u001b[0m |\n",
      "| \u001b[0m180      \u001b[0m | \u001b[0m0.851    \u001b[0m | \u001b[0m7.935    \u001b[0m | \u001b[0m1.539    \u001b[0m |\n",
      "| \u001b[0m181      \u001b[0m | \u001b[0m0.8507   \u001b[0m | \u001b[0m2.884    \u001b[0m | \u001b[0m1.774    \u001b[0m |\n",
      "| \u001b[0m182      \u001b[0m | \u001b[0m0.8491   \u001b[0m | \u001b[0m5.903    \u001b[0m | \u001b[0m0.5025   \u001b[0m |\n",
      "| \u001b[0m183      \u001b[0m | \u001b[0m0.852    \u001b[0m | \u001b[0m1.075    \u001b[0m | \u001b[0m3.704    \u001b[0m |\n",
      "| \u001b[0m184      \u001b[0m | \u001b[0m0.8477   \u001b[0m | \u001b[0m5.001    \u001b[0m | \u001b[0m7.369    \u001b[0m |\n",
      "| \u001b[0m185      \u001b[0m | \u001b[0m0.851    \u001b[0m | \u001b[0m8.39     \u001b[0m | \u001b[0m4.789    \u001b[0m |\n",
      "| \u001b[0m186      \u001b[0m | \u001b[0m0.8499   \u001b[0m | \u001b[0m1.666    \u001b[0m | \u001b[0m9.951    \u001b[0m |\n",
      "| \u001b[0m187      \u001b[0m | \u001b[0m0.8499   \u001b[0m | \u001b[0m1.842    \u001b[0m | \u001b[0m8.844    \u001b[0m |\n",
      "| \u001b[0m188      \u001b[0m | \u001b[0m0.8504   \u001b[0m | \u001b[0m6.792    \u001b[0m | \u001b[0m6.563    \u001b[0m |\n",
      "| \u001b[0m189      \u001b[0m | \u001b[0m0.8485   \u001b[0m | \u001b[0m4.329    \u001b[0m | \u001b[0m4.771    \u001b[0m |\n",
      "| \u001b[0m190      \u001b[0m | \u001b[0m0.8507   \u001b[0m | \u001b[0m2.251    \u001b[0m | \u001b[0m5.82     \u001b[0m |\n",
      "| \u001b[0m191      \u001b[0m | \u001b[0m0.851    \u001b[0m | \u001b[0m8.61     \u001b[0m | \u001b[0m9.874    \u001b[0m |\n",
      "| \u001b[0m192      \u001b[0m | \u001b[0m0.851    \u001b[0m | \u001b[0m9.472    \u001b[0m | \u001b[0m4.401    \u001b[0m |\n",
      "| \u001b[0m193      \u001b[0m | \u001b[0m0.8499   \u001b[0m | \u001b[0m2.006    \u001b[0m | \u001b[0m0.5475   \u001b[0m |\n",
      "| \u001b[0m194      \u001b[0m | \u001b[0m0.8499   \u001b[0m | \u001b[0m2.031    \u001b[0m | \u001b[0m2.198    \u001b[0m |\n",
      "| \u001b[0m195      \u001b[0m | \u001b[0m0.8496   \u001b[0m | \u001b[0m7.418    \u001b[0m | \u001b[0m7.206    \u001b[0m |\n",
      "| \u001b[0m196      \u001b[0m | \u001b[0m0.8502   \u001b[0m | \u001b[0m8.295    \u001b[0m | \u001b[0m7.606    \u001b[0m |\n",
      "| \u001b[0m197      \u001b[0m | \u001b[0m0.851    \u001b[0m | \u001b[0m8.069    \u001b[0m | \u001b[0m6.373    \u001b[0m |\n",
      "| \u001b[0m198      \u001b[0m | \u001b[0m0.851    \u001b[0m | \u001b[0m7.796    \u001b[0m | \u001b[0m8.157    \u001b[0m |\n",
      "| \u001b[0m199      \u001b[0m | \u001b[0m0.851    \u001b[0m | \u001b[0m9.064    \u001b[0m | \u001b[0m8.818    \u001b[0m |\n"
     ]
    },
    {
     "name": "stdout",
     "output_type": "stream",
     "text": [
      "| \u001b[0m200      \u001b[0m | \u001b[0m0.8496   \u001b[0m | \u001b[0m7.608    \u001b[0m | \u001b[0m0.3393   \u001b[0m |\n",
      "| \u001b[0m201      \u001b[0m | \u001b[0m0.8502   \u001b[0m | \u001b[0m8.46     \u001b[0m | \u001b[0m0.9323   \u001b[0m |\n",
      "| \u001b[0m202      \u001b[0m | \u001b[0m0.8492   \u001b[0m | \u001b[0m3.119    \u001b[0m | \u001b[0m7.662    \u001b[0m |\n",
      "| \u001b[0m203      \u001b[0m | \u001b[0m0.851    \u001b[0m | \u001b[0m9.998    \u001b[0m | \u001b[0m2.614    \u001b[0m |\n",
      "| \u001b[0m204      \u001b[0m | \u001b[0m0.8507   \u001b[0m | \u001b[0m3.0      \u001b[0m | \u001b[0m6.519    \u001b[0m |\n",
      "| \u001b[0m205      \u001b[0m | \u001b[0m0.8485   \u001b[0m | \u001b[0m4.072    \u001b[0m | \u001b[0m8.552    \u001b[0m |\n",
      "| \u001b[0m206      \u001b[0m | \u001b[0m0.8496   \u001b[0m | \u001b[0m7.121    \u001b[0m | \u001b[0m1.137    \u001b[0m |\n",
      "| \u001b[0m207      \u001b[0m | \u001b[0m0.8507   \u001b[0m | \u001b[0m2.492    \u001b[0m | \u001b[0m4.486    \u001b[0m |\n",
      "| \u001b[0m208      \u001b[0m | \u001b[0m0.8502   \u001b[0m | \u001b[0m8.174    \u001b[0m | \u001b[0m0.2567   \u001b[0m |\n",
      "| \u001b[0m209      \u001b[0m | \u001b[0m0.851    \u001b[0m | \u001b[0m9.1      \u001b[0m | \u001b[0m0.01     \u001b[0m |\n",
      "| \u001b[0m210      \u001b[0m | \u001b[0m0.8485   \u001b[0m | \u001b[0m3.452    \u001b[0m | \u001b[0m4.349    \u001b[0m |\n",
      "| \u001b[0m211      \u001b[0m | \u001b[0m0.8502   \u001b[0m | \u001b[0m9.613    \u001b[0m | \u001b[0m5.307    \u001b[0m |\n",
      "| \u001b[0m212      \u001b[0m | \u001b[0m0.8507   \u001b[0m | \u001b[0m2.435    \u001b[0m | \u001b[0m9.54     \u001b[0m |\n",
      "| \u001b[0m213      \u001b[0m | \u001b[0m0.8502   \u001b[0m | \u001b[0m9.725    \u001b[0m | \u001b[0m6.637    \u001b[0m |\n",
      "| \u001b[0m214      \u001b[0m | \u001b[0m0.851    \u001b[0m | \u001b[0m9.033    \u001b[0m | \u001b[0m6.079    \u001b[0m |\n",
      "| \u001b[0m215      \u001b[0m | \u001b[0m0.8502   \u001b[0m | \u001b[0m9.027    \u001b[0m | \u001b[0m7.266    \u001b[0m |\n",
      "| \u001b[0m216      \u001b[0m | \u001b[0m0.851    \u001b[0m | \u001b[0m8.036    \u001b[0m | \u001b[0m7.006    \u001b[0m |\n",
      "=================================================\n"
     ]
    }
   ],
   "source": [
    "results = bo.maximize(n_iter=200, init_points=16)"
   ]
  },
  {
   "cell_type": "code",
   "execution_count": 14,
   "id": "a5dac29c",
   "metadata": {},
   "outputs": [
    {
     "name": "stdout",
     "output_type": "stream",
     "text": [
      "{'C': 1.2552619894109958, 'gamma': 0.013454622889540413}\n"
     ]
    }
   ],
   "source": [
    "#Prints optimal parameters\n",
    "params = bo.max['params']\n",
    "print(params)"
   ]
  },
  {
   "cell_type": "code",
   "execution_count": 15,
   "id": "dbe18dee",
   "metadata": {},
   "outputs": [
    {
     "data": {
      "text/html": [
       "<style>#sk-container-id-1 {color: black;}#sk-container-id-1 pre{padding: 0;}#sk-container-id-1 div.sk-toggleable {background-color: white;}#sk-container-id-1 label.sk-toggleable__label {cursor: pointer;display: block;width: 100%;margin-bottom: 0;padding: 0.3em;box-sizing: border-box;text-align: center;}#sk-container-id-1 label.sk-toggleable__label-arrow:before {content: \"▸\";float: left;margin-right: 0.25em;color: #696969;}#sk-container-id-1 label.sk-toggleable__label-arrow:hover:before {color: black;}#sk-container-id-1 div.sk-estimator:hover label.sk-toggleable__label-arrow:before {color: black;}#sk-container-id-1 div.sk-toggleable__content {max-height: 0;max-width: 0;overflow: hidden;text-align: left;background-color: #f0f8ff;}#sk-container-id-1 div.sk-toggleable__content pre {margin: 0.2em;color: black;border-radius: 0.25em;background-color: #f0f8ff;}#sk-container-id-1 input.sk-toggleable__control:checked~div.sk-toggleable__content {max-height: 200px;max-width: 100%;overflow: auto;}#sk-container-id-1 input.sk-toggleable__control:checked~label.sk-toggleable__label-arrow:before {content: \"▾\";}#sk-container-id-1 div.sk-estimator input.sk-toggleable__control:checked~label.sk-toggleable__label {background-color: #d4ebff;}#sk-container-id-1 div.sk-label input.sk-toggleable__control:checked~label.sk-toggleable__label {background-color: #d4ebff;}#sk-container-id-1 input.sk-hidden--visually {border: 0;clip: rect(1px 1px 1px 1px);clip: rect(1px, 1px, 1px, 1px);height: 1px;margin: -1px;overflow: hidden;padding: 0;position: absolute;width: 1px;}#sk-container-id-1 div.sk-estimator {font-family: monospace;background-color: #f0f8ff;border: 1px dotted black;border-radius: 0.25em;box-sizing: border-box;margin-bottom: 0.5em;}#sk-container-id-1 div.sk-estimator:hover {background-color: #d4ebff;}#sk-container-id-1 div.sk-parallel-item::after {content: \"\";width: 100%;border-bottom: 1px solid gray;flex-grow: 1;}#sk-container-id-1 div.sk-label:hover label.sk-toggleable__label {background-color: #d4ebff;}#sk-container-id-1 div.sk-serial::before {content: \"\";position: absolute;border-left: 1px solid gray;box-sizing: border-box;top: 0;bottom: 0;left: 50%;z-index: 0;}#sk-container-id-1 div.sk-serial {display: flex;flex-direction: column;align-items: center;background-color: white;padding-right: 0.2em;padding-left: 0.2em;position: relative;}#sk-container-id-1 div.sk-item {position: relative;z-index: 1;}#sk-container-id-1 div.sk-parallel {display: flex;align-items: stretch;justify-content: center;background-color: white;position: relative;}#sk-container-id-1 div.sk-item::before, #sk-container-id-1 div.sk-parallel-item::before {content: \"\";position: absolute;border-left: 1px solid gray;box-sizing: border-box;top: 0;bottom: 0;left: 50%;z-index: -1;}#sk-container-id-1 div.sk-parallel-item {display: flex;flex-direction: column;z-index: 1;position: relative;background-color: white;}#sk-container-id-1 div.sk-parallel-item:first-child::after {align-self: flex-end;width: 50%;}#sk-container-id-1 div.sk-parallel-item:last-child::after {align-self: flex-start;width: 50%;}#sk-container-id-1 div.sk-parallel-item:only-child::after {width: 0;}#sk-container-id-1 div.sk-dashed-wrapped {border: 1px dashed gray;margin: 0 0.4em 0.5em 0.4em;box-sizing: border-box;padding-bottom: 0.4em;background-color: white;}#sk-container-id-1 div.sk-label label {font-family: monospace;font-weight: bold;display: inline-block;line-height: 1.2em;}#sk-container-id-1 div.sk-label-container {text-align: center;}#sk-container-id-1 div.sk-container {/* jupyter's `normalize.less` sets `[hidden] { display: none; }` but bootstrap.min.css set `[hidden] { display: none !important; }` so we also need the `!important` here to be able to override the default hidden behavior on the sphinx rendered scikit-learn.org. See: https://github.com/scikit-learn/scikit-learn/issues/21755 */display: inline-block !important;position: relative;}#sk-container-id-1 div.sk-text-repr-fallback {display: none;}</style><div id=\"sk-container-id-1\" class=\"sk-top-container\"><div class=\"sk-text-repr-fallback\"><pre>SVC(C=1.2552619894109958, gamma=0.013454622889540413, kernel=&#x27;linear&#x27;,\n",
       "    random_state=1234)</pre><b>In a Jupyter environment, please rerun this cell to show the HTML representation or trust the notebook. <br />On GitHub, the HTML representation is unable to render, please try loading this page with nbviewer.org.</b></div><div class=\"sk-container\" hidden><div class=\"sk-item\"><div class=\"sk-estimator sk-toggleable\"><input class=\"sk-toggleable__control sk-hidden--visually\" id=\"sk-estimator-id-1\" type=\"checkbox\" checked><label for=\"sk-estimator-id-1\" class=\"sk-toggleable__label sk-toggleable__label-arrow\">SVC</label><div class=\"sk-toggleable__content\"><pre>SVC(C=1.2552619894109958, gamma=0.013454622889540413, kernel=&#x27;linear&#x27;,\n",
       "    random_state=1234)</pre></div></div></div></div></div>"
      ],
      "text/plain": [
       "SVC(C=1.2552619894109958, gamma=0.013454622889540413, kernel='linear',\n",
       "    random_state=1234)"
      ]
     },
     "execution_count": 15,
     "metadata": {},
     "output_type": "execute_result"
    }
   ],
   "source": [
    "model = svm.SVC(**params,kernel=bestkernel,random_state=seed)\n",
    "model.fit(x_train, y_train)\n",
    "\n"
   ]
  },
  {
   "cell_type": "code",
   "execution_count": 16,
   "id": "1b25c9fa",
   "metadata": {},
   "outputs": [],
   "source": [
    "y_pred_train=model.predict(x_train)"
   ]
  },
  {
   "cell_type": "code",
   "execution_count": 17,
   "id": "6cd4dbaa",
   "metadata": {},
   "outputs": [
    {
     "name": "stdout",
     "output_type": "stream",
     "text": [
      "[[849  14]\n",
      " [ 93  73]]\n"
     ]
    }
   ],
   "source": [
    "from sklearn.metrics import confusion_matrix\n",
    "confusionMatrix = confusion_matrix(y_train, y_pred_train)\n",
    "print(confusionMatrix)\n",
    "\n",
    "### MATRIX IS INVERTED\n",
    "## TN | FP\n",
    "## FN | TP"
   ]
  },
  {
   "cell_type": "code",
   "execution_count": 18,
   "id": "8fd4de21",
   "metadata": {},
   "outputs": [
    {
     "name": "stdout",
     "output_type": "stream",
     "text": [
      "              precision    recall  f1-score   support\n",
      "\n",
      "           0       0.90      0.98      0.94       863\n",
      "           1       0.84      0.44      0.58       166\n",
      "\n",
      "    accuracy                           0.90      1029\n",
      "   macro avg       0.87      0.71      0.76      1029\n",
      "weighted avg       0.89      0.90      0.88      1029\n",
      "\n"
     ]
    }
   ],
   "source": [
    "from sklearn.metrics import classification_report\n",
    "print(classification_report(y_train, y_pred_train))"
   ]
  },
  {
   "cell_type": "code",
   "execution_count": 19,
   "id": "9bec48a4",
   "metadata": {},
   "outputs": [
    {
     "data": {
      "text/html": [
       "<style>#sk-container-id-2 {color: black;}#sk-container-id-2 pre{padding: 0;}#sk-container-id-2 div.sk-toggleable {background-color: white;}#sk-container-id-2 label.sk-toggleable__label {cursor: pointer;display: block;width: 100%;margin-bottom: 0;padding: 0.3em;box-sizing: border-box;text-align: center;}#sk-container-id-2 label.sk-toggleable__label-arrow:before {content: \"▸\";float: left;margin-right: 0.25em;color: #696969;}#sk-container-id-2 label.sk-toggleable__label-arrow:hover:before {color: black;}#sk-container-id-2 div.sk-estimator:hover label.sk-toggleable__label-arrow:before {color: black;}#sk-container-id-2 div.sk-toggleable__content {max-height: 0;max-width: 0;overflow: hidden;text-align: left;background-color: #f0f8ff;}#sk-container-id-2 div.sk-toggleable__content pre {margin: 0.2em;color: black;border-radius: 0.25em;background-color: #f0f8ff;}#sk-container-id-2 input.sk-toggleable__control:checked~div.sk-toggleable__content {max-height: 200px;max-width: 100%;overflow: auto;}#sk-container-id-2 input.sk-toggleable__control:checked~label.sk-toggleable__label-arrow:before {content: \"▾\";}#sk-container-id-2 div.sk-estimator input.sk-toggleable__control:checked~label.sk-toggleable__label {background-color: #d4ebff;}#sk-container-id-2 div.sk-label input.sk-toggleable__control:checked~label.sk-toggleable__label {background-color: #d4ebff;}#sk-container-id-2 input.sk-hidden--visually {border: 0;clip: rect(1px 1px 1px 1px);clip: rect(1px, 1px, 1px, 1px);height: 1px;margin: -1px;overflow: hidden;padding: 0;position: absolute;width: 1px;}#sk-container-id-2 div.sk-estimator {font-family: monospace;background-color: #f0f8ff;border: 1px dotted black;border-radius: 0.25em;box-sizing: border-box;margin-bottom: 0.5em;}#sk-container-id-2 div.sk-estimator:hover {background-color: #d4ebff;}#sk-container-id-2 div.sk-parallel-item::after {content: \"\";width: 100%;border-bottom: 1px solid gray;flex-grow: 1;}#sk-container-id-2 div.sk-label:hover label.sk-toggleable__label {background-color: #d4ebff;}#sk-container-id-2 div.sk-serial::before {content: \"\";position: absolute;border-left: 1px solid gray;box-sizing: border-box;top: 0;bottom: 0;left: 50%;z-index: 0;}#sk-container-id-2 div.sk-serial {display: flex;flex-direction: column;align-items: center;background-color: white;padding-right: 0.2em;padding-left: 0.2em;position: relative;}#sk-container-id-2 div.sk-item {position: relative;z-index: 1;}#sk-container-id-2 div.sk-parallel {display: flex;align-items: stretch;justify-content: center;background-color: white;position: relative;}#sk-container-id-2 div.sk-item::before, #sk-container-id-2 div.sk-parallel-item::before {content: \"\";position: absolute;border-left: 1px solid gray;box-sizing: border-box;top: 0;bottom: 0;left: 50%;z-index: -1;}#sk-container-id-2 div.sk-parallel-item {display: flex;flex-direction: column;z-index: 1;position: relative;background-color: white;}#sk-container-id-2 div.sk-parallel-item:first-child::after {align-self: flex-end;width: 50%;}#sk-container-id-2 div.sk-parallel-item:last-child::after {align-self: flex-start;width: 50%;}#sk-container-id-2 div.sk-parallel-item:only-child::after {width: 0;}#sk-container-id-2 div.sk-dashed-wrapped {border: 1px dashed gray;margin: 0 0.4em 0.5em 0.4em;box-sizing: border-box;padding-bottom: 0.4em;background-color: white;}#sk-container-id-2 div.sk-label label {font-family: monospace;font-weight: bold;display: inline-block;line-height: 1.2em;}#sk-container-id-2 div.sk-label-container {text-align: center;}#sk-container-id-2 div.sk-container {/* jupyter's `normalize.less` sets `[hidden] { display: none; }` but bootstrap.min.css set `[hidden] { display: none !important; }` so we also need the `!important` here to be able to override the default hidden behavior on the sphinx rendered scikit-learn.org. See: https://github.com/scikit-learn/scikit-learn/issues/21755 */display: inline-block !important;position: relative;}#sk-container-id-2 div.sk-text-repr-fallback {display: none;}</style><div id=\"sk-container-id-2\" class=\"sk-top-container\"><div class=\"sk-text-repr-fallback\"><pre>SVC(C=1.2552619894109958, gamma=0.013454622889540413, kernel=&#x27;linear&#x27;,\n",
       "    probability=True, random_state=1234)</pre><b>In a Jupyter environment, please rerun this cell to show the HTML representation or trust the notebook. <br />On GitHub, the HTML representation is unable to render, please try loading this page with nbviewer.org.</b></div><div class=\"sk-container\" hidden><div class=\"sk-item\"><div class=\"sk-estimator sk-toggleable\"><input class=\"sk-toggleable__control sk-hidden--visually\" id=\"sk-estimator-id-2\" type=\"checkbox\" checked><label for=\"sk-estimator-id-2\" class=\"sk-toggleable__label sk-toggleable__label-arrow\">SVC</label><div class=\"sk-toggleable__content\"><pre>SVC(C=1.2552619894109958, gamma=0.013454622889540413, kernel=&#x27;linear&#x27;,\n",
       "    probability=True, random_state=1234)</pre></div></div></div></div></div>"
      ],
      "text/plain": [
       "SVC(C=1.2552619894109958, gamma=0.013454622889540413, kernel='linear',\n",
       "    probability=True, random_state=1234)"
      ]
     },
     "execution_count": 19,
     "metadata": {},
     "output_type": "execute_result"
    }
   ],
   "source": [
    "#need this to plot the AOC \n",
    "modelaux = svm.SVC(**params,kernel=bestkernel,probability=True,random_state=seed)\n",
    "modelaux.fit(x_train, y_train)"
   ]
  },
  {
   "cell_type": "code",
   "execution_count": 20,
   "id": "cfbcc822",
   "metadata": {},
   "outputs": [
    {
     "data": {
      "image/png": "[encoded data removed]",
      "text/plain": [
       "<Figure size 640x480 with 1 Axes>"
      ]
     },
     "metadata": {},
     "output_type": "display_data"
    }
   ],
   "source": [
    "#Printes the area under the roc curve \n",
    "from sklearn.metrics import roc_auc_score\n",
    "from sklearn.metrics import roc_curve\n",
    "import matplotlib.pyplot as plt \n",
    "\n",
    "\n",
    "model_roc_auc = roc_auc_score(y_train, model.predict(x_train))\n",
    "fpr, tpr, thresholds = roc_curve(y_train, modelaux.predict_proba(x_train)[:,1])\n",
    "plt.figure()\n",
    "plt.plot(fpr, tpr, label='Model (area = %0.2f)' % model_roc_auc)\n",
    "plt.plot([0, 1], [0, 1])\n",
    "plt.xlim([0.0, 1.0])\n",
    "plt.ylim([0.0, 1.05])\n",
    "plt.xlabel('False Positive Rate')\n",
    "plt.ylabel('True Positive Rate')\n",
    "plt.title('Receiver operating characteristic')\n",
    "plt.legend(loc='lower right')\n",
    "plt.savefig('DT_ROC')\n",
    "plt.show()"
   ]
  },
  {
   "cell_type": "code",
   "execution_count": 21,
   "id": "7cc988f9",
   "metadata": {},
   "outputs": [],
   "source": [
    "y_pred = model.predict(x_test)"
   ]
  },
  {
   "cell_type": "code",
   "execution_count": 22,
   "id": "8c02332f",
   "metadata": {},
   "outputs": [
    {
     "name": "stdout",
     "output_type": "stream",
     "text": [
      "[[363   7]\n",
      " [ 44  27]]\n"
     ]
    }
   ],
   "source": [
    "from sklearn.metrics import confusion_matrix\n",
    "confusionMatrix = confusion_matrix(y_test, y_pred)\n",
    "print(confusionMatrix)\n",
    "\n",
    "### MATRIX IS INVERTED\n",
    "## TN | FP\n",
    "## FN | TP"
   ]
  },
  {
   "cell_type": "code",
   "execution_count": 23,
   "id": "9e0db841",
   "metadata": {
    "scrolled": true
   },
   "outputs": [
    {
     "data": {
      "image/png": "[encoded data removed]",
      "text/plain": [
       "<Figure size 800x800 with 1 Axes>"
      ]
     },
     "metadata": {},
     "output_type": "display_data"
    }
   ],
   "source": [
    "import matplotlib.pyplot as plt\n",
    "cm = confusionMatrix\n",
    "\n",
    "fig, ax = plt.subplots(figsize=(8, 8))\n",
    "ax.imshow(cm)\n",
    "ax.grid(False)\n",
    "ax.xaxis.set(ticks=(0, 1), ticklabels=('Predicted 0s', 'Predicted 1s'))\n",
    "ax.yaxis.set(ticks=(0, 1), ticklabels=('Actual 0s', 'Actual 1s'))\n",
    "ax.set_ylim(1.5, -0.5)\n",
    "for i in range(2):\n",
    "    for j in range(2):\n",
    "        ax.text(j, i, cm[i, j], ha='center', va='center', color='red')\n",
    "plt.show()"
   ]
  },
  {
   "cell_type": "code",
   "execution_count": 24,
   "id": "10d739c5",
   "metadata": {},
   "outputs": [
    {
     "name": "stdout",
     "output_type": "stream",
     "text": [
      "              precision    recall  f1-score   support\n",
      "\n",
      "           0       0.89      0.98      0.93       370\n",
      "           1       0.79      0.38      0.51        71\n",
      "\n",
      "    accuracy                           0.88       441\n",
      "   macro avg       0.84      0.68      0.72       441\n",
      "weighted avg       0.88      0.88      0.87       441\n",
      "\n"
     ]
    }
   ],
   "source": [
    "from sklearn.metrics import classification_report\n",
    "print(classification_report(y_test, y_pred))\n",
    "\n",
    "#precision is the ratio tp / (tp + fp) % of real positive over all the positives given by the algorithm\n",
    "#recall is the ratio tp / (tp + fn) positive predictions over total positive\n",
    "#Accuracy tp+tn/(tp+tn+fp+fn)\n",
    "#Specificity= tn/tn+fp negative predictions over total positive\n",
    "\n",
    "tn=confusionMatrix[0,0]\n",
    "fp=confusionMatrix[0,1]\n",
    "fn=confusionMatrix[1,0]\n",
    "tp=confusionMatrix[1,1]\n",
    "\n",
    "# Second line on output is the good one"
   ]
  },
  {
   "cell_type": "code",
   "execution_count": 25,
   "id": "18012193",
   "metadata": {},
   "outputs": [
    {
     "data": {
      "image/png": "[encoded data removed]",
      "text/plain": [
       "<Figure size 640x480 with 1 Axes>"
      ]
     },
     "metadata": {},
     "output_type": "display_data"
    }
   ],
   "source": [
    "#Printes the area under the roc curve \n",
    "from sklearn.metrics import roc_auc_score\n",
    "from sklearn.metrics import roc_curve\n",
    "import matplotlib.pyplot as plt \n",
    "\n",
    "\n",
    "model_roc_auc = roc_auc_score(y_test, model.predict(x_test))\n",
    "fpr, tpr, thresholds = roc_curve(y_test, modelaux.predict_proba(x_test)[:,1])\n",
    "plt.figure()\n",
    "plt.plot(fpr, tpr, label='Model (area = %0.2f)' % model_roc_auc)\n",
    "plt.plot([0, 1], [0, 1])\n",
    "plt.xlim([0.0, 1.0])\n",
    "plt.ylim([0.0, 1.05])\n",
    "plt.xlabel('False Positive Rate')\n",
    "plt.ylabel('True Positive Rate')\n",
    "plt.title('Receiver operating characteristic')\n",
    "plt.legend(loc='lower right')\n",
    "plt.savefig('DT_ROC')\n",
    "plt.show()"
   ]
  },
  {
   "cell_type": "markdown",
   "id": "d76b0dea",
   "metadata": {},
   "source": [
    "## Semillerio"
   ]
  },
  {
   "cell_type": "code",
   "execution_count": 26,
   "id": "a0e0e2fd",
   "metadata": {},
   "outputs": [],
   "source": [
    "def is_prime(num):\n",
    "    if num <= 1:\n",
    "        return False\n",
    "    for i in range(2, int(num**0.5) + 1):\n",
    "        if num % i == 0:\n",
    "            return False\n",
    "    return True\n",
    "\n",
    "def generate_primes(n):\n",
    "    primes = []\n",
    "    num = 2 + seed\n",
    "    while len(primes) < n:\n",
    "        if is_prime(num):\n",
    "            primes.append(num)\n",
    "        num += 1\n",
    "    return primes"
   ]
  },
  {
   "cell_type": "code",
   "execution_count": 27,
   "id": "02888daa",
   "metadata": {},
   "outputs": [],
   "source": [
    "n=30"
   ]
  },
  {
   "cell_type": "code",
   "execution_count": 28,
   "id": "d3c7d70c",
   "metadata": {},
   "outputs": [],
   "source": [
    "import numpy as np\n",
    "prime_list = generate_primes(n)\n",
    "yPredSem=np.zeros_like(y_test)"
   ]
  },
  {
   "cell_type": "code",
   "execution_count": 29,
   "id": "aafb7f57",
   "metadata": {},
   "outputs": [],
   "source": [
    "for prime in prime_list:\n",
    "    modelSem = svm.SVC(**params,kernel=bestkernel,random_state=prime)\n",
    "    modelSem.fit(x_train,y_train)\n",
    "    pred = modelSem.predict(x_test)\n",
    "    yPredSem=yPredSem+pred"
   ]
  },
  {
   "cell_type": "code",
   "execution_count": 30,
   "id": "db923d12",
   "metadata": {},
   "outputs": [],
   "source": [
    "yPredSem=np.round(yPredSem / n).astype(int)"
   ]
  },
  {
   "cell_type": "code",
   "execution_count": 31,
   "id": "9346d03a",
   "metadata": {},
   "outputs": [
    {
     "name": "stdout",
     "output_type": "stream",
     "text": [
      "              precision    recall  f1-score   support\n",
      "\n",
      "           0       0.89      0.98      0.93       370\n",
      "           1       0.79      0.38      0.51        71\n",
      "\n",
      "    accuracy                           0.88       441\n",
      "   macro avg       0.84      0.68      0.72       441\n",
      "weighted avg       0.88      0.88      0.87       441\n",
      "\n"
     ]
    }
   ],
   "source": [
    "#Shows the different performance indicators for the test data\n",
    "print(classification_report(y_test,yPredSem))"
   ]
  },
  {
   "cell_type": "code",
   "execution_count": 32,
   "id": "d4544328",
   "metadata": {},
   "outputs": [
    {
     "name": "stdout",
     "output_type": "stream",
     "text": [
      "[[363   7]\n",
      " [ 44  27]]\n"
     ]
    }
   ],
   "source": [
    "#Prints the confusion matrix\n",
    "from sklearn.metrics import confusion_matrix\n",
    "confusionMatrix = confusion_matrix(y_test, yPredSem)\n",
    "print(confusionMatrix)\n",
    "\n",
    "### MATRIX IS INVERTED\n",
    "## TN | FP\n",
    "## FN | TP"
   ]
  },
  {
   "cell_type": "code",
   "execution_count": 33,
   "id": "8e10c99b",
   "metadata": {},
   "outputs": [
    {
     "data": {
      "text/plain": [
       "0.680681385610963"
      ]
     },
     "execution_count": 33,
     "metadata": {},
     "output_type": "execute_result"
    }
   ],
   "source": [
    "model_roc_auc = roc_auc_score(y_test,yPredSem)\n",
    "model_roc_auc"
   ]
  },
  {
   "cell_type": "code",
   "execution_count": 34,
   "id": "7179dbb2",
   "metadata": {},
   "outputs": [
    {
     "data": {
      "text/html": [
       "<div>\n",
       "<style scoped>\n",
       "    .dataframe tbody tr th:only-of-type {\n",
       "        vertical-align: middle;\n",
       "    }\n",
       "\n",
       "    .dataframe tbody tr th {\n",
       "        vertical-align: top;\n",
       "    }\n",
       "\n",
       "    .dataframe thead th {\n",
       "        text-align: right;\n",
       "    }\n",
       "</style>\n",
       "<table border=\"1\" class=\"dataframe\">\n",
       "  <thead>\n",
       "    <tr style=\"text-align: right;\">\n",
       "      <th></th>\n",
       "      <th>EmployeeNumber</th>\n",
       "      <th>predict</th>\n",
       "    </tr>\n",
       "  </thead>\n",
       "  <tbody>\n",
       "    <tr>\n",
       "      <th>298</th>\n",
       "      <td>-1.03</td>\n",
       "      <td>0</td>\n",
       "    </tr>\n",
       "    <tr>\n",
       "      <th>625</th>\n",
       "      <td>-0.27</td>\n",
       "      <td>0</td>\n",
       "    </tr>\n",
       "    <tr>\n",
       "      <th>1349</th>\n",
       "      <td>1.44</td>\n",
       "      <td>0</td>\n",
       "    </tr>\n",
       "    <tr>\n",
       "      <th>1361</th>\n",
       "      <td>1.48</td>\n",
       "      <td>0</td>\n",
       "    </tr>\n",
       "    <tr>\n",
       "      <th>343</th>\n",
       "      <td>-0.93</td>\n",
       "      <td>0</td>\n",
       "    </tr>\n",
       "    <tr>\n",
       "      <th>...</th>\n",
       "      <td>...</td>\n",
       "      <td>...</td>\n",
       "    </tr>\n",
       "    <tr>\n",
       "      <th>1395</th>\n",
       "      <td>1.56</td>\n",
       "      <td>0</td>\n",
       "    </tr>\n",
       "    <tr>\n",
       "      <th>305</th>\n",
       "      <td>-1.01</td>\n",
       "      <td>0</td>\n",
       "    </tr>\n",
       "    <tr>\n",
       "      <th>1256</th>\n",
       "      <td>1.22</td>\n",
       "      <td>0</td>\n",
       "    </tr>\n",
       "    <tr>\n",
       "      <th>553</th>\n",
       "      <td>-0.43</td>\n",
       "      <td>0</td>\n",
       "    </tr>\n",
       "    <tr>\n",
       "      <th>392</th>\n",
       "      <td>-0.84</td>\n",
       "      <td>0</td>\n",
       "    </tr>\n",
       "  </tbody>\n",
       "</table>\n",
       "<p>441 rows × 2 columns</p>\n",
       "</div>"
      ],
      "text/plain": [
       "      EmployeeNumber  predict\n",
       "298            -1.03        0\n",
       "625            -0.27        0\n",
       "1349            1.44        0\n",
       "1361            1.48        0\n",
       "343            -0.93        0\n",
       "...              ...      ...\n",
       "1395            1.56        0\n",
       "305            -1.01        0\n",
       "1256            1.22        0\n",
       "553            -0.43        0\n",
       "392            -0.84        0\n",
       "\n",
       "[441 rows x 2 columns]"
      ]
     },
     "execution_count": 34,
     "metadata": {},
     "output_type": "execute_result"
    }
   ],
   "source": [
    "aux=x_test\n",
    "aux['predict']=yPredSem\n",
    "aux[['EmployeeNumber','predict']]"
   ]
  },
  {
   "cell_type": "markdown",
   "id": "eb794389",
   "metadata": {},
   "source": [
    "### Export results to CSV"
   ]
  },
  {
   "cell_type": "code",
   "execution_count": 35,
   "id": "c03b966d",
   "metadata": {},
   "outputs": [],
   "source": [
    "aux.to_csv('AttrttionResultsSVM', index=False) "
   ]
  },
  {
   "cell_type": "code",
   "execution_count": null,
   "id": "881fd29f",
   "metadata": {},
   "outputs": [],
   "source": []
  },
  {
   "cell_type": "code",
   "execution_count": null,
   "id": "ef425a02",
   "metadata": {},
   "outputs": [],
   "source": []
  },
  {
   "cell_type": "code",
   "execution_count": null,
   "id": "10caded5",
   "metadata": {},
   "outputs": [],
   "source": []
  },
  {
   "cell_type": "code",
   "execution_count": null,
   "id": "e26ba7aa",
   "metadata": {},
   "outputs": [],
   "source": []
  },
  {
   "cell_type": "code",
   "execution_count": null,
   "id": "f350e40f",
   "metadata": {},
   "outputs": [],
   "source": []
  },
  {
   "cell_type": "code",
   "execution_count": null,
   "id": "454bc55b",
   "metadata": {},
   "outputs": [],
   "source": []
  },
  {
   "cell_type": "code",
   "execution_count": null,
   "id": "2c2650c5",
   "metadata": {},
   "outputs": [],
   "source": []
  },
  {
   "cell_type": "code",
   "execution_count": null,
   "id": "0c887e79",
   "metadata": {},
   "outputs": [],
   "source": []
  },
  {
   "cell_type": "code",
   "execution_count": null,
   "id": "5522b19a",
   "metadata": {},
   "outputs": [],
   "source": [
    "\n"
   ]
  },
  {
   "cell_type": "code",
   "execution_count": null,
   "id": "537aa2bd",
   "metadata": {},
   "outputs": [],
   "source": []
  },
  {
   "cell_type": "code",
   "execution_count": null,
   "id": "cd205c63",
   "metadata": {},
   "outputs": [],
   "source": []
  },
  {
   "cell_type": "code",
   "execution_count": null,
   "id": "62c45577",
   "metadata": {},
   "outputs": [],
   "source": []
  },
  {
   "cell_type": "code",
   "execution_count": null,
   "id": "de93ed5d",
   "metadata": {},
   "outputs": [],
   "source": []
  },
  {
   "cell_type": "code",
   "execution_count": null,
   "id": "cf915191",
   "metadata": {},
   "outputs": [],
   "source": []
  },
  {
   "cell_type": "code",
   "execution_count": null,
   "id": "974bf6cb",
   "metadata": {},
   "outputs": [],
   "source": []
  },
  {
   "cell_type": "code",
   "execution_count": null,
   "id": "b0cb9725",
   "metadata": {},
   "outputs": [],
   "source": []
  },
  {
   "cell_type": "code",
   "execution_count": null,
   "id": "553cd305",
   "metadata": {},
   "outputs": [],
   "source": []
  },
  {
   "cell_type": "code",
   "execution_count": null,
   "id": "23d87e7d",
   "metadata": {},
   "outputs": [],
   "source": []
  },
  {
   "cell_type": "code",
   "execution_count": null,
   "id": "79a44a58",
   "metadata": {},
   "outputs": [],
   "source": []
  },
  {
   "cell_type": "code",
   "execution_count": null,
   "id": "9ba9656c",
   "metadata": {},
   "outputs": [],
   "source": []
  },
  {
   "cell_type": "code",
   "execution_count": null,
   "id": "d2011acc",
   "metadata": {},
   "outputs": [],
   "source": []
  },
  {
   "cell_type": "code",
   "execution_count": null,
   "id": "9bbeca6b",
   "metadata": {},
   "outputs": [],
   "source": []
  },
  {
   "cell_type": "code",
   "execution_count": null,
   "id": "30871cd7",
   "metadata": {},
   "outputs": [],
   "source": []
  },
  {
   "cell_type": "code",
   "execution_count": null,
   "id": "3997a905",
   "metadata": {},
   "outputs": [],
   "source": []
  },
  {
   "cell_type": "code",
   "execution_count": null,
   "id": "5e64fd49",
   "metadata": {},
   "outputs": [],
   "source": []
  },
  {
   "cell_type": "code",
   "execution_count": null,
   "id": "c5eb6eb5",
   "metadata": {},
   "outputs": [],
   "source": []
  },
  {
   "cell_type": "code",
   "execution_count": null,
   "id": "4e43ae0c",
   "metadata": {},
   "outputs": [],
   "source": []
  },
  {
   "cell_type": "code",
   "execution_count": null,
   "id": "c397e4b2",
   "metadata": {},
   "outputs": [],
   "source": []
  },
  {
   "cell_type": "code",
   "execution_count": null,
   "id": "2f61a11d",
   "metadata": {},
   "outputs": [],
   "source": []
  },
  {
   "cell_type": "code",
   "execution_count": null,
   "id": "b0db0f7c",
   "metadata": {},
   "outputs": [],
   "source": []
  },
  {
   "cell_type": "code",
   "execution_count": null,
   "id": "4425cce6",
   "metadata": {},
   "outputs": [],
   "source": []
  },
  {
   "cell_type": "code",
   "execution_count": null,
   "id": "29ef60ce",
   "metadata": {},
   "outputs": [],
   "source": []
  },
  {
   "cell_type": "code",
   "execution_count": null,
   "id": "ad601687",
   "metadata": {},
   "outputs": [],
   "source": []
  },
  {
   "cell_type": "code",
   "execution_count": null,
   "id": "322b9c87",
   "metadata": {},
   "outputs": [],
   "source": []
  },
  {
   "cell_type": "code",
   "execution_count": null,
   "id": "1794d84e",
   "metadata": {},
   "outputs": [],
   "source": []
  },
  {
   "cell_type": "code",
   "execution_count": null,
   "id": "58707a45",
   "metadata": {},
   "outputs": [],
   "source": []
  },
  {
   "cell_type": "code",
   "execution_count": null,
   "id": "cb25c5a3",
   "metadata": {},
   "outputs": [],
   "source": []
  },
  {
   "cell_type": "code",
   "execution_count": null,
   "id": "eaa8c9d2",
   "metadata": {},
   "outputs": [],
   "source": []
  },
  {
   "cell_type": "code",
   "execution_count": null,
   "id": "aa0caa5e",
   "metadata": {},
   "outputs": [],
   "source": []
  },
  {
   "cell_type": "code",
   "execution_count": null,
   "id": "0ff31988",
   "metadata": {},
   "outputs": [],
   "source": []
  },
  {
   "cell_type": "code",
   "execution_count": null,
   "id": "d51b4e14",
   "metadata": {},
   "outputs": [],
   "source": []
  },
  {
   "cell_type": "code",
   "execution_count": null,
   "id": "9a0a59f2",
   "metadata": {},
   "outputs": [],
   "source": []
  },
  {
   "cell_type": "code",
   "execution_count": null,
   "id": "11be700c",
   "metadata": {},
   "outputs": [],
   "source": []
  },
  {
   "cell_type": "code",
   "execution_count": null,
   "id": "a5474a86",
   "metadata": {},
   "outputs": [],
   "source": []
  },
  {
   "cell_type": "code",
   "execution_count": null,
   "id": "0f32489e",
   "metadata": {},
   "outputs": [],
   "source": []
  },
  {
   "cell_type": "code",
   "execution_count": null,
   "id": "d641c7a9",
   "metadata": {},
   "outputs": [],
   "source": []
  },
  {
   "cell_type": "code",
   "execution_count": null,
   "id": "0d7f4bb5",
   "metadata": {},
   "outputs": [],
   "source": []
  },
  {
   "cell_type": "code",
   "execution_count": null,
   "id": "8e8ae9b4",
   "metadata": {},
   "outputs": [],
   "source": []
  },
  {
   "cell_type": "code",
   "execution_count": null,
   "id": "e722bf07",
   "metadata": {},
   "outputs": [],
   "source": []
  },
  {
   "cell_type": "code",
   "execution_count": null,
   "id": "a761da05",
   "metadata": {},
   "outputs": [],
   "source": []
  },
  {
   "cell_type": "code",
   "execution_count": null,
   "id": "6fa81260",
   "metadata": {},
   "outputs": [],
   "source": []
  },
  {
   "cell_type": "code",
   "execution_count": null,
   "id": "dca8ac6a",
   "metadata": {},
   "outputs": [],
   "source": []
  },
  {
   "cell_type": "code",
   "execution_count": null,
   "id": "4974f057",
   "metadata": {},
   "outputs": [],
   "source": []
  },
  {
   "cell_type": "code",
   "execution_count": null,
   "id": "f9dda12f",
   "metadata": {},
   "outputs": [],
   "source": []
  },
  {
   "cell_type": "code",
   "execution_count": null,
   "id": "1e4e7489",
   "metadata": {},
   "outputs": [],
   "source": []
  },
  {
   "cell_type": "code",
   "execution_count": null,
   "id": "ca670134",
   "metadata": {},
   "outputs": [],
   "source": []
  },
  {
   "cell_type": "code",
   "execution_count": null,
   "id": "8ffad6c2",
   "metadata": {},
   "outputs": [],
   "source": []
  },
  {
   "cell_type": "code",
   "execution_count": null,
   "id": "3635785b",
   "metadata": {},
   "outputs": [],
   "source": []
  },
  {
   "cell_type": "code",
   "execution_count": null,
   "id": "60615024",
   "metadata": {},
   "outputs": [],
   "source": []
  },
  {
   "cell_type": "code",
   "execution_count": null,
   "id": "2415e737",
   "metadata": {},
   "outputs": [],
   "source": []
  },
  {
   "cell_type": "code",
   "execution_count": null,
   "id": "bfea7969",
   "metadata": {},
   "outputs": [],
   "source": []
  },
  {
   "cell_type": "code",
   "execution_count": null,
   "id": "f0578393",
   "metadata": {},
   "outputs": [],
   "source": []
  },
  {
   "cell_type": "code",
   "execution_count": null,
   "id": "ce81e429",
   "metadata": {},
   "outputs": [],
   "source": []
  },
  {
   "cell_type": "code",
   "execution_count": null,
   "id": "e7f3e64d",
   "metadata": {},
   "outputs": [],
   "source": []
  },
  {
   "cell_type": "code",
   "execution_count": null,
   "id": "525f721a",
   "metadata": {},
   "outputs": [],
   "source": []
  },
  {
   "cell_type": "code",
   "execution_count": null,
   "id": "2196125d",
   "metadata": {},
   "outputs": [],
   "source": []
  },
  {
   "cell_type": "code",
   "execution_count": null,
   "id": "321a3296",
   "metadata": {},
   "outputs": [],
   "source": []
  },
  {
   "cell_type": "code",
   "execution_count": null,
   "id": "446849e3",
   "metadata": {},
   "outputs": [],
   "source": []
  },
  {
   "cell_type": "code",
   "execution_count": null,
   "id": "b87683f0",
   "metadata": {},
   "outputs": [],
   "source": []
  },
  {
   "cell_type": "code",
   "execution_count": null,
   "id": "6dd20ac8",
   "metadata": {},
   "outputs": [],
   "source": []
  },
  {
   "cell_type": "code",
   "execution_count": null,
   "id": "2e50ec3c",
   "metadata": {},
   "outputs": [],
   "source": []
  },
  {
   "cell_type": "code",
   "execution_count": null,
   "id": "8df0c98c",
   "metadata": {},
   "outputs": [],
   "source": []
  },
  {
   "cell_type": "code",
   "execution_count": null,
   "id": "389ac8cb",
   "metadata": {},
   "outputs": [],
   "source": []
  },
  {
   "cell_type": "code",
   "execution_count": null,
   "id": "ef6845f8",
   "metadata": {},
   "outputs": [],
   "source": []
  },
  {
   "cell_type": "code",
   "execution_count": null,
   "id": "46075476",
   "metadata": {},
   "outputs": [],
   "source": []
  },
  {
   "cell_type": "code",
   "execution_count": null,
   "id": "88481699",
   "metadata": {},
   "outputs": [],
   "source": []
  },
  {
   "cell_type": "code",
   "execution_count": null,
   "id": "0d978155",
   "metadata": {},
   "outputs": [],
   "source": []
  },
  {
   "cell_type": "code",
   "execution_count": null,
   "id": "ef2da638",
   "metadata": {},
   "outputs": [],
   "source": []
  },
  {
   "cell_type": "code",
   "execution_count": null,
   "id": "aa09c0be",
   "metadata": {},
   "outputs": [],
   "source": []
  },
  {
   "cell_type": "code",
   "execution_count": null,
   "id": "1f2dfe25",
   "metadata": {},
   "outputs": [],
   "source": []
  },
  {
   "cell_type": "code",
   "execution_count": null,
   "id": "fcd8256a",
   "metadata": {},
   "outputs": [],
   "source": []
  },
  {
   "cell_type": "code",
   "execution_count": null,
   "id": "d2ebdf1a",
   "metadata": {},
   "outputs": [],
   "source": []
  },
  {
   "cell_type": "code",
   "execution_count": null,
   "id": "17219300",
   "metadata": {},
   "outputs": [],
   "source": []
  },
  {
   "cell_type": "code",
   "execution_count": null,
   "id": "c0377003",
   "metadata": {},
   "outputs": [],
   "source": []
  },
  {
   "cell_type": "code",
   "execution_count": null,
   "id": "145b744d",
   "metadata": {},
   "outputs": [],
   "source": []
  },
  {
   "cell_type": "code",
   "execution_count": null,
   "id": "18d54de7",
   "metadata": {},
   "outputs": [],
   "source": []
  },
  {
   "cell_type": "code",
   "execution_count": null,
   "id": "b621a248",
   "metadata": {},
   "outputs": [],
   "source": []
  },
  {
   "cell_type": "code",
   "execution_count": null,
   "id": "69629238",
   "metadata": {},
   "outputs": [],
   "source": []
  },
  {
   "cell_type": "code",
   "execution_count": null,
   "id": "30be9704",
   "metadata": {},
   "outputs": [],
   "source": []
  },
  {
   "cell_type": "code",
   "execution_count": null,
   "id": "4ff907a6",
   "metadata": {},
   "outputs": [],
   "source": []
  },
  {
   "cell_type": "code",
   "execution_count": null,
   "id": "872930bf",
   "metadata": {},
   "outputs": [],
   "source": []
  },
  {
   "cell_type": "code",
   "execution_count": null,
   "id": "e25885e8",
   "metadata": {},
   "outputs": [],
   "source": []
  },
  {
   "cell_type": "code",
   "execution_count": null,
   "id": "80d4402b",
   "metadata": {},
   "outputs": [],
   "source": []
  },
  {
   "cell_type": "code",
   "execution_count": null,
   "id": "d6372ce1",
   "metadata": {},
   "outputs": [],
   "source": []
  },
  {
   "cell_type": "code",
   "execution_count": null,
   "id": "b93fc147",
   "metadata": {},
   "outputs": [],
   "source": []
  },
  {
   "cell_type": "code",
   "execution_count": null,
   "id": "4ece38cd",
   "metadata": {},
   "outputs": [],
   "source": []
  },
  {
   "cell_type": "code",
   "execution_count": null,
   "id": "0555023e",
   "metadata": {},
   "outputs": [],
   "source": []
  },
  {
   "cell_type": "code",
   "execution_count": null,
   "id": "76e1e7d8",
   "metadata": {},
   "outputs": [],
   "source": []
  },
  {
   "cell_type": "code",
   "execution_count": null,
   "id": "c05d59e7",
   "metadata": {},
   "outputs": [],
   "source": []
  },
  {
   "cell_type": "code",
   "execution_count": null,
   "id": "46db9df7",
   "metadata": {},
   "outputs": [],
   "source": []
  },
  {
   "cell_type": "code",
   "execution_count": null,
   "id": "50dd8f40",
   "metadata": {},
   "outputs": [],
   "source": []
  },
  {
   "cell_type": "code",
   "execution_count": null,
   "id": "857db5fe",
   "metadata": {},
   "outputs": [],
   "source": []
  },
  {
   "cell_type": "code",
   "execution_count": null,
   "id": "285cb959",
   "metadata": {},
   "outputs": [],
   "source": []
  }
 ],
 "metadata": {
  "kernelspec": {
   "display_name": "Python 3 (ipykernel)",
   "language": "python",
   "name": "python3"
  },
  "language_info": {
   "codemirror_mode": {
    "name": "ipython",
    "version": 3
   },
   "file_extension": ".py",
   "mimetype": "text/x-python",
   "name": "python",
   "nbconvert_exporter": "python",
   "pygments_lexer": "ipython3",
   "version": "3.8.0"
  }
 },
 "nbformat": 4,
 "nbformat_minor": 5
}
